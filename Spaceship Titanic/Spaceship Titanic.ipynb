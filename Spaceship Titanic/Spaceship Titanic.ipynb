{
 "cells": [
  {
   "cell_type": "code",
   "execution_count": 1,
   "id": "4235f69d",
   "metadata": {},
   "outputs": [],
   "source": [
    "import pandas as pd\n",
    "import numpy as np\n",
    "import matplotlib.pyplot as plt\n",
    "import seaborn as sns\n",
    "from sklearn.preprocessing import StandardScaler\n",
    "from sklearn.linear_model import LogisticRegression\n",
    "from sklearn.naive_bayes import GaussianNB\n",
    "from sklearn.tree import DecisionTreeClassifier\n",
    "from sklearn.ensemble import AdaBoostClassifier, RandomForestClassifier, GradientBoostingClassifier\n",
    "from sklearn.model_selection import cross_validate, GridSearchCV\n",
    "from sklearn.metrics import accuracy_score, confusion_matrix\n",
    "from sklearn.feature_selection import SelectFromModel"
   ]
  },
  {
   "cell_type": "code",
   "execution_count": 2,
   "id": "70cdca7b",
   "metadata": {},
   "outputs": [
    {
     "data": {
      "text/html": [
       "<div>\n",
       "<style scoped>\n",
       "    .dataframe tbody tr th:only-of-type {\n",
       "        vertical-align: middle;\n",
       "    }\n",
       "\n",
       "    .dataframe tbody tr th {\n",
       "        vertical-align: top;\n",
       "    }\n",
       "\n",
       "    .dataframe thead th {\n",
       "        text-align: right;\n",
       "    }\n",
       "</style>\n",
       "<table border=\"1\" class=\"dataframe\">\n",
       "  <thead>\n",
       "    <tr style=\"text-align: right;\">\n",
       "      <th></th>\n",
       "      <th>PassengerId</th>\n",
       "      <th>HomePlanet</th>\n",
       "      <th>CryoSleep</th>\n",
       "      <th>Cabin</th>\n",
       "      <th>Destination</th>\n",
       "      <th>Age</th>\n",
       "      <th>VIP</th>\n",
       "      <th>RoomService</th>\n",
       "      <th>FoodCourt</th>\n",
       "      <th>ShoppingMall</th>\n",
       "      <th>Spa</th>\n",
       "      <th>VRDeck</th>\n",
       "      <th>Name</th>\n",
       "      <th>Transported</th>\n",
       "    </tr>\n",
       "  </thead>\n",
       "  <tbody>\n",
       "    <tr>\n",
       "      <th>0</th>\n",
       "      <td>0001_01</td>\n",
       "      <td>Europa</td>\n",
       "      <td>False</td>\n",
       "      <td>B/0/P</td>\n",
       "      <td>TRAPPIST-1e</td>\n",
       "      <td>39.0</td>\n",
       "      <td>False</td>\n",
       "      <td>0.0</td>\n",
       "      <td>0.0</td>\n",
       "      <td>0.0</td>\n",
       "      <td>0.0</td>\n",
       "      <td>0.0</td>\n",
       "      <td>Maham Ofracculy</td>\n",
       "      <td>False</td>\n",
       "    </tr>\n",
       "    <tr>\n",
       "      <th>1</th>\n",
       "      <td>0002_01</td>\n",
       "      <td>Earth</td>\n",
       "      <td>False</td>\n",
       "      <td>F/0/S</td>\n",
       "      <td>TRAPPIST-1e</td>\n",
       "      <td>24.0</td>\n",
       "      <td>False</td>\n",
       "      <td>109.0</td>\n",
       "      <td>9.0</td>\n",
       "      <td>25.0</td>\n",
       "      <td>549.0</td>\n",
       "      <td>44.0</td>\n",
       "      <td>Juanna Vines</td>\n",
       "      <td>True</td>\n",
       "    </tr>\n",
       "    <tr>\n",
       "      <th>2</th>\n",
       "      <td>0003_01</td>\n",
       "      <td>Europa</td>\n",
       "      <td>False</td>\n",
       "      <td>A/0/S</td>\n",
       "      <td>TRAPPIST-1e</td>\n",
       "      <td>58.0</td>\n",
       "      <td>True</td>\n",
       "      <td>43.0</td>\n",
       "      <td>3576.0</td>\n",
       "      <td>0.0</td>\n",
       "      <td>6715.0</td>\n",
       "      <td>49.0</td>\n",
       "      <td>Altark Susent</td>\n",
       "      <td>False</td>\n",
       "    </tr>\n",
       "    <tr>\n",
       "      <th>3</th>\n",
       "      <td>0003_02</td>\n",
       "      <td>Europa</td>\n",
       "      <td>False</td>\n",
       "      <td>A/0/S</td>\n",
       "      <td>TRAPPIST-1e</td>\n",
       "      <td>33.0</td>\n",
       "      <td>False</td>\n",
       "      <td>0.0</td>\n",
       "      <td>1283.0</td>\n",
       "      <td>371.0</td>\n",
       "      <td>3329.0</td>\n",
       "      <td>193.0</td>\n",
       "      <td>Solam Susent</td>\n",
       "      <td>False</td>\n",
       "    </tr>\n",
       "    <tr>\n",
       "      <th>4</th>\n",
       "      <td>0004_01</td>\n",
       "      <td>Earth</td>\n",
       "      <td>False</td>\n",
       "      <td>F/1/S</td>\n",
       "      <td>TRAPPIST-1e</td>\n",
       "      <td>16.0</td>\n",
       "      <td>False</td>\n",
       "      <td>303.0</td>\n",
       "      <td>70.0</td>\n",
       "      <td>151.0</td>\n",
       "      <td>565.0</td>\n",
       "      <td>2.0</td>\n",
       "      <td>Willy Santantines</td>\n",
       "      <td>True</td>\n",
       "    </tr>\n",
       "  </tbody>\n",
       "</table>\n",
       "</div>"
      ],
      "text/plain": [
       "  PassengerId HomePlanet CryoSleep  Cabin  Destination   Age    VIP  \\\n",
       "0     0001_01     Europa     False  B/0/P  TRAPPIST-1e  39.0  False   \n",
       "1     0002_01      Earth     False  F/0/S  TRAPPIST-1e  24.0  False   \n",
       "2     0003_01     Europa     False  A/0/S  TRAPPIST-1e  58.0   True   \n",
       "3     0003_02     Europa     False  A/0/S  TRAPPIST-1e  33.0  False   \n",
       "4     0004_01      Earth     False  F/1/S  TRAPPIST-1e  16.0  False   \n",
       "\n",
       "   RoomService  FoodCourt  ShoppingMall     Spa  VRDeck               Name  \\\n",
       "0          0.0        0.0           0.0     0.0     0.0    Maham Ofracculy   \n",
       "1        109.0        9.0          25.0   549.0    44.0       Juanna Vines   \n",
       "2         43.0     3576.0           0.0  6715.0    49.0      Altark Susent   \n",
       "3          0.0     1283.0         371.0  3329.0   193.0       Solam Susent   \n",
       "4        303.0       70.0         151.0   565.0     2.0  Willy Santantines   \n",
       "\n",
       "   Transported  \n",
       "0        False  \n",
       "1         True  \n",
       "2        False  \n",
       "3        False  \n",
       "4         True  "
      ]
     },
     "execution_count": 2,
     "metadata": {},
     "output_type": "execute_result"
    }
   ],
   "source": [
    "train = pd.read_csv('train-space.csv')\n",
    "test = pd.read_csv('test-space.csv')\n",
    "train.head()"
   ]
  },
  {
   "cell_type": "code",
   "execution_count": 3,
   "id": "34f32052",
   "metadata": {},
   "outputs": [
    {
     "name": "stdout",
     "output_type": "stream",
     "text": [
      "<class 'pandas.core.frame.DataFrame'>\n",
      "RangeIndex: 8693 entries, 0 to 8692\n",
      "Data columns (total 14 columns):\n",
      " #   Column        Non-Null Count  Dtype  \n",
      "---  ------        --------------  -----  \n",
      " 0   PassengerId   8693 non-null   object \n",
      " 1   HomePlanet    8492 non-null   object \n",
      " 2   CryoSleep     8476 non-null   object \n",
      " 3   Cabin         8494 non-null   object \n",
      " 4   Destination   8511 non-null   object \n",
      " 5   Age           8514 non-null   float64\n",
      " 6   VIP           8490 non-null   object \n",
      " 7   RoomService   8512 non-null   float64\n",
      " 8   FoodCourt     8510 non-null   float64\n",
      " 9   ShoppingMall  8485 non-null   float64\n",
      " 10  Spa           8510 non-null   float64\n",
      " 11  VRDeck        8505 non-null   float64\n",
      " 12  Name          8493 non-null   object \n",
      " 13  Transported   8693 non-null   bool   \n",
      "dtypes: bool(1), float64(6), object(7)\n",
      "memory usage: 891.5+ KB\n"
     ]
    }
   ],
   "source": [
    "train.info()"
   ]
  },
  {
   "cell_type": "markdown",
   "id": "af4efe62",
   "metadata": {},
   "source": [
    "Os 4 primeiros números no Id do passageiro indicam o grupo que está viajando. Extrair esta informação pode ser útil."
   ]
  },
  {
   "cell_type": "code",
   "execution_count": 4,
   "id": "0551bf47",
   "metadata": {},
   "outputs": [],
   "source": [
    "#Utilizando str.split para separar o grupo dos passageiros\n",
    "split = train['PassengerId'].str.split('_', expand = True)\n",
    "train['Group'] = split[0]\n",
    "split_test = test['PassengerId'].str.split('_', expand = True)\n",
    "test['Group'] = split_test[0]"
   ]
  },
  {
   "cell_type": "markdown",
   "id": "e7753bb1",
   "metadata": {},
   "source": [
    "A cabine também está descrita na forma deck/num/side. Também pode ser útil separar estas informações. "
   ]
  },
  {
   "cell_type": "code",
   "execution_count": 5,
   "id": "98d0f2a0",
   "metadata": {},
   "outputs": [],
   "source": [
    "cabin = train['Cabin'].str.split('/', expand = True)\n",
    "train['Deck'] = cabin[0]\n",
    "train['Cabin Number'] = cabin[1]\n",
    "train['Side'] = cabin[2] # P: Port or S: Starboard\n",
    "cabin_test = test['Cabin'].str.split('/', expand = True)\n",
    "test['Deck'] = cabin_test[0]\n",
    "test['Cabin Number'] = cabin_test[1]\n",
    "test['Side'] = cabin_test[2] # P: Port or S: Starboard"
   ]
  },
  {
   "cell_type": "code",
   "execution_count": 6,
   "id": "cb60a1b9",
   "metadata": {},
   "outputs": [
    {
     "data": {
      "text/html": [
       "<div>\n",
       "<style scoped>\n",
       "    .dataframe tbody tr th:only-of-type {\n",
       "        vertical-align: middle;\n",
       "    }\n",
       "\n",
       "    .dataframe tbody tr th {\n",
       "        vertical-align: top;\n",
       "    }\n",
       "\n",
       "    .dataframe thead th {\n",
       "        text-align: right;\n",
       "    }\n",
       "</style>\n",
       "<table border=\"1\" class=\"dataframe\">\n",
       "  <thead>\n",
       "    <tr style=\"text-align: right;\">\n",
       "      <th></th>\n",
       "      <th>PassengerId</th>\n",
       "      <th>HomePlanet</th>\n",
       "      <th>CryoSleep</th>\n",
       "      <th>Cabin</th>\n",
       "      <th>Destination</th>\n",
       "      <th>Age</th>\n",
       "      <th>VIP</th>\n",
       "      <th>RoomService</th>\n",
       "      <th>FoodCourt</th>\n",
       "      <th>ShoppingMall</th>\n",
       "      <th>Spa</th>\n",
       "      <th>VRDeck</th>\n",
       "      <th>Name</th>\n",
       "      <th>Transported</th>\n",
       "      <th>Group</th>\n",
       "      <th>Deck</th>\n",
       "      <th>Cabin Number</th>\n",
       "      <th>Side</th>\n",
       "    </tr>\n",
       "  </thead>\n",
       "  <tbody>\n",
       "    <tr>\n",
       "      <th>0</th>\n",
       "      <td>0001_01</td>\n",
       "      <td>Europa</td>\n",
       "      <td>False</td>\n",
       "      <td>B/0/P</td>\n",
       "      <td>TRAPPIST-1e</td>\n",
       "      <td>39.0</td>\n",
       "      <td>False</td>\n",
       "      <td>0.0</td>\n",
       "      <td>0.0</td>\n",
       "      <td>0.0</td>\n",
       "      <td>0.0</td>\n",
       "      <td>0.0</td>\n",
       "      <td>Maham Ofracculy</td>\n",
       "      <td>False</td>\n",
       "      <td>0001</td>\n",
       "      <td>B</td>\n",
       "      <td>0</td>\n",
       "      <td>P</td>\n",
       "    </tr>\n",
       "    <tr>\n",
       "      <th>1</th>\n",
       "      <td>0002_01</td>\n",
       "      <td>Earth</td>\n",
       "      <td>False</td>\n",
       "      <td>F/0/S</td>\n",
       "      <td>TRAPPIST-1e</td>\n",
       "      <td>24.0</td>\n",
       "      <td>False</td>\n",
       "      <td>109.0</td>\n",
       "      <td>9.0</td>\n",
       "      <td>25.0</td>\n",
       "      <td>549.0</td>\n",
       "      <td>44.0</td>\n",
       "      <td>Juanna Vines</td>\n",
       "      <td>True</td>\n",
       "      <td>0002</td>\n",
       "      <td>F</td>\n",
       "      <td>0</td>\n",
       "      <td>S</td>\n",
       "    </tr>\n",
       "    <tr>\n",
       "      <th>2</th>\n",
       "      <td>0003_01</td>\n",
       "      <td>Europa</td>\n",
       "      <td>False</td>\n",
       "      <td>A/0/S</td>\n",
       "      <td>TRAPPIST-1e</td>\n",
       "      <td>58.0</td>\n",
       "      <td>True</td>\n",
       "      <td>43.0</td>\n",
       "      <td>3576.0</td>\n",
       "      <td>0.0</td>\n",
       "      <td>6715.0</td>\n",
       "      <td>49.0</td>\n",
       "      <td>Altark Susent</td>\n",
       "      <td>False</td>\n",
       "      <td>0003</td>\n",
       "      <td>A</td>\n",
       "      <td>0</td>\n",
       "      <td>S</td>\n",
       "    </tr>\n",
       "    <tr>\n",
       "      <th>3</th>\n",
       "      <td>0003_02</td>\n",
       "      <td>Europa</td>\n",
       "      <td>False</td>\n",
       "      <td>A/0/S</td>\n",
       "      <td>TRAPPIST-1e</td>\n",
       "      <td>33.0</td>\n",
       "      <td>False</td>\n",
       "      <td>0.0</td>\n",
       "      <td>1283.0</td>\n",
       "      <td>371.0</td>\n",
       "      <td>3329.0</td>\n",
       "      <td>193.0</td>\n",
       "      <td>Solam Susent</td>\n",
       "      <td>False</td>\n",
       "      <td>0003</td>\n",
       "      <td>A</td>\n",
       "      <td>0</td>\n",
       "      <td>S</td>\n",
       "    </tr>\n",
       "    <tr>\n",
       "      <th>4</th>\n",
       "      <td>0004_01</td>\n",
       "      <td>Earth</td>\n",
       "      <td>False</td>\n",
       "      <td>F/1/S</td>\n",
       "      <td>TRAPPIST-1e</td>\n",
       "      <td>16.0</td>\n",
       "      <td>False</td>\n",
       "      <td>303.0</td>\n",
       "      <td>70.0</td>\n",
       "      <td>151.0</td>\n",
       "      <td>565.0</td>\n",
       "      <td>2.0</td>\n",
       "      <td>Willy Santantines</td>\n",
       "      <td>True</td>\n",
       "      <td>0004</td>\n",
       "      <td>F</td>\n",
       "      <td>1</td>\n",
       "      <td>S</td>\n",
       "    </tr>\n",
       "    <tr>\n",
       "      <th>5</th>\n",
       "      <td>0005_01</td>\n",
       "      <td>Earth</td>\n",
       "      <td>False</td>\n",
       "      <td>F/0/P</td>\n",
       "      <td>PSO J318.5-22</td>\n",
       "      <td>44.0</td>\n",
       "      <td>False</td>\n",
       "      <td>0.0</td>\n",
       "      <td>483.0</td>\n",
       "      <td>0.0</td>\n",
       "      <td>291.0</td>\n",
       "      <td>0.0</td>\n",
       "      <td>Sandie Hinetthews</td>\n",
       "      <td>True</td>\n",
       "      <td>0005</td>\n",
       "      <td>F</td>\n",
       "      <td>0</td>\n",
       "      <td>P</td>\n",
       "    </tr>\n",
       "    <tr>\n",
       "      <th>6</th>\n",
       "      <td>0006_01</td>\n",
       "      <td>Earth</td>\n",
       "      <td>False</td>\n",
       "      <td>F/2/S</td>\n",
       "      <td>TRAPPIST-1e</td>\n",
       "      <td>26.0</td>\n",
       "      <td>False</td>\n",
       "      <td>42.0</td>\n",
       "      <td>1539.0</td>\n",
       "      <td>3.0</td>\n",
       "      <td>0.0</td>\n",
       "      <td>0.0</td>\n",
       "      <td>Billex Jacostaffey</td>\n",
       "      <td>True</td>\n",
       "      <td>0006</td>\n",
       "      <td>F</td>\n",
       "      <td>2</td>\n",
       "      <td>S</td>\n",
       "    </tr>\n",
       "    <tr>\n",
       "      <th>7</th>\n",
       "      <td>0006_02</td>\n",
       "      <td>Earth</td>\n",
       "      <td>True</td>\n",
       "      <td>G/0/S</td>\n",
       "      <td>TRAPPIST-1e</td>\n",
       "      <td>28.0</td>\n",
       "      <td>False</td>\n",
       "      <td>0.0</td>\n",
       "      <td>0.0</td>\n",
       "      <td>0.0</td>\n",
       "      <td>0.0</td>\n",
       "      <td>NaN</td>\n",
       "      <td>Candra Jacostaffey</td>\n",
       "      <td>True</td>\n",
       "      <td>0006</td>\n",
       "      <td>G</td>\n",
       "      <td>0</td>\n",
       "      <td>S</td>\n",
       "    </tr>\n",
       "    <tr>\n",
       "      <th>8</th>\n",
       "      <td>0007_01</td>\n",
       "      <td>Earth</td>\n",
       "      <td>False</td>\n",
       "      <td>F/3/S</td>\n",
       "      <td>TRAPPIST-1e</td>\n",
       "      <td>35.0</td>\n",
       "      <td>False</td>\n",
       "      <td>0.0</td>\n",
       "      <td>785.0</td>\n",
       "      <td>17.0</td>\n",
       "      <td>216.0</td>\n",
       "      <td>0.0</td>\n",
       "      <td>Andona Beston</td>\n",
       "      <td>True</td>\n",
       "      <td>0007</td>\n",
       "      <td>F</td>\n",
       "      <td>3</td>\n",
       "      <td>S</td>\n",
       "    </tr>\n",
       "    <tr>\n",
       "      <th>9</th>\n",
       "      <td>0008_01</td>\n",
       "      <td>Europa</td>\n",
       "      <td>True</td>\n",
       "      <td>B/1/P</td>\n",
       "      <td>55 Cancri e</td>\n",
       "      <td>14.0</td>\n",
       "      <td>False</td>\n",
       "      <td>0.0</td>\n",
       "      <td>0.0</td>\n",
       "      <td>0.0</td>\n",
       "      <td>0.0</td>\n",
       "      <td>0.0</td>\n",
       "      <td>Erraiam Flatic</td>\n",
       "      <td>True</td>\n",
       "      <td>0008</td>\n",
       "      <td>B</td>\n",
       "      <td>1</td>\n",
       "      <td>P</td>\n",
       "    </tr>\n",
       "  </tbody>\n",
       "</table>\n",
       "</div>"
      ],
      "text/plain": [
       "  PassengerId HomePlanet CryoSleep  Cabin    Destination   Age    VIP  \\\n",
       "0     0001_01     Europa     False  B/0/P    TRAPPIST-1e  39.0  False   \n",
       "1     0002_01      Earth     False  F/0/S    TRAPPIST-1e  24.0  False   \n",
       "2     0003_01     Europa     False  A/0/S    TRAPPIST-1e  58.0   True   \n",
       "3     0003_02     Europa     False  A/0/S    TRAPPIST-1e  33.0  False   \n",
       "4     0004_01      Earth     False  F/1/S    TRAPPIST-1e  16.0  False   \n",
       "5     0005_01      Earth     False  F/0/P  PSO J318.5-22  44.0  False   \n",
       "6     0006_01      Earth     False  F/2/S    TRAPPIST-1e  26.0  False   \n",
       "7     0006_02      Earth      True  G/0/S    TRAPPIST-1e  28.0  False   \n",
       "8     0007_01      Earth     False  F/3/S    TRAPPIST-1e  35.0  False   \n",
       "9     0008_01     Europa      True  B/1/P    55 Cancri e  14.0  False   \n",
       "\n",
       "   RoomService  FoodCourt  ShoppingMall     Spa  VRDeck                Name  \\\n",
       "0          0.0        0.0           0.0     0.0     0.0     Maham Ofracculy   \n",
       "1        109.0        9.0          25.0   549.0    44.0        Juanna Vines   \n",
       "2         43.0     3576.0           0.0  6715.0    49.0       Altark Susent   \n",
       "3          0.0     1283.0         371.0  3329.0   193.0        Solam Susent   \n",
       "4        303.0       70.0         151.0   565.0     2.0   Willy Santantines   \n",
       "5          0.0      483.0           0.0   291.0     0.0   Sandie Hinetthews   \n",
       "6         42.0     1539.0           3.0     0.0     0.0  Billex Jacostaffey   \n",
       "7          0.0        0.0           0.0     0.0     NaN  Candra Jacostaffey   \n",
       "8          0.0      785.0          17.0   216.0     0.0       Andona Beston   \n",
       "9          0.0        0.0           0.0     0.0     0.0      Erraiam Flatic   \n",
       "\n",
       "   Transported Group Deck Cabin Number Side  \n",
       "0        False  0001    B            0    P  \n",
       "1         True  0002    F            0    S  \n",
       "2        False  0003    A            0    S  \n",
       "3        False  0003    A            0    S  \n",
       "4         True  0004    F            1    S  \n",
       "5         True  0005    F            0    P  \n",
       "6         True  0006    F            2    S  \n",
       "7         True  0006    G            0    S  \n",
       "8         True  0007    F            3    S  \n",
       "9         True  0008    B            1    P  "
      ]
     },
     "execution_count": 6,
     "metadata": {},
     "output_type": "execute_result"
    }
   ],
   "source": [
    "train.head(10)"
   ]
  },
  {
   "cell_type": "markdown",
   "id": "4b08821a",
   "metadata": {},
   "source": [
    "Verificando se existem dados duplicados:"
   ]
  },
  {
   "cell_type": "code",
   "execution_count": 7,
   "id": "c1837475",
   "metadata": {},
   "outputs": [
    {
     "data": {
      "text/html": [
       "<div>\n",
       "<style scoped>\n",
       "    .dataframe tbody tr th:only-of-type {\n",
       "        vertical-align: middle;\n",
       "    }\n",
       "\n",
       "    .dataframe tbody tr th {\n",
       "        vertical-align: top;\n",
       "    }\n",
       "\n",
       "    .dataframe thead th {\n",
       "        text-align: right;\n",
       "    }\n",
       "</style>\n",
       "<table border=\"1\" class=\"dataframe\">\n",
       "  <thead>\n",
       "    <tr style=\"text-align: right;\">\n",
       "      <th></th>\n",
       "      <th>PassengerId</th>\n",
       "      <th>HomePlanet</th>\n",
       "      <th>CryoSleep</th>\n",
       "      <th>Cabin</th>\n",
       "      <th>Destination</th>\n",
       "      <th>Age</th>\n",
       "      <th>VIP</th>\n",
       "      <th>RoomService</th>\n",
       "      <th>FoodCourt</th>\n",
       "      <th>ShoppingMall</th>\n",
       "      <th>Spa</th>\n",
       "      <th>VRDeck</th>\n",
       "      <th>Name</th>\n",
       "      <th>Transported</th>\n",
       "      <th>Group</th>\n",
       "      <th>Deck</th>\n",
       "      <th>Cabin Number</th>\n",
       "      <th>Side</th>\n",
       "    </tr>\n",
       "  </thead>\n",
       "  <tbody>\n",
       "  </tbody>\n",
       "</table>\n",
       "</div>"
      ],
      "text/plain": [
       "Empty DataFrame\n",
       "Columns: [PassengerId, HomePlanet, CryoSleep, Cabin, Destination, Age, VIP, RoomService, FoodCourt, ShoppingMall, Spa, VRDeck, Name, Transported, Group, Deck, Cabin Number, Side]\n",
       "Index: []"
      ]
     },
     "execution_count": 7,
     "metadata": {},
     "output_type": "execute_result"
    }
   ],
   "source": [
    "train[train.duplicated()]"
   ]
  },
  {
   "cell_type": "code",
   "execution_count": 8,
   "id": "bd6efaa6",
   "metadata": {},
   "outputs": [
    {
     "data": {
      "text/html": [
       "<div>\n",
       "<style scoped>\n",
       "    .dataframe tbody tr th:only-of-type {\n",
       "        vertical-align: middle;\n",
       "    }\n",
       "\n",
       "    .dataframe tbody tr th {\n",
       "        vertical-align: top;\n",
       "    }\n",
       "\n",
       "    .dataframe thead th {\n",
       "        text-align: right;\n",
       "    }\n",
       "</style>\n",
       "<table border=\"1\" class=\"dataframe\">\n",
       "  <thead>\n",
       "    <tr style=\"text-align: right;\">\n",
       "      <th></th>\n",
       "      <th>PassengerId</th>\n",
       "      <th>HomePlanet</th>\n",
       "      <th>CryoSleep</th>\n",
       "      <th>Cabin</th>\n",
       "      <th>Destination</th>\n",
       "      <th>Age</th>\n",
       "      <th>VIP</th>\n",
       "      <th>RoomService</th>\n",
       "      <th>FoodCourt</th>\n",
       "      <th>ShoppingMall</th>\n",
       "      <th>Spa</th>\n",
       "      <th>VRDeck</th>\n",
       "      <th>Name</th>\n",
       "      <th>Group</th>\n",
       "      <th>Deck</th>\n",
       "      <th>Cabin Number</th>\n",
       "      <th>Side</th>\n",
       "    </tr>\n",
       "  </thead>\n",
       "  <tbody>\n",
       "  </tbody>\n",
       "</table>\n",
       "</div>"
      ],
      "text/plain": [
       "Empty DataFrame\n",
       "Columns: [PassengerId, HomePlanet, CryoSleep, Cabin, Destination, Age, VIP, RoomService, FoodCourt, ShoppingMall, Spa, VRDeck, Name, Group, Deck, Cabin Number, Side]\n",
       "Index: []"
      ]
     },
     "execution_count": 8,
     "metadata": {},
     "output_type": "execute_result"
    }
   ],
   "source": [
    "test[test.duplicated()]"
   ]
  },
  {
   "cell_type": "markdown",
   "id": "f7d2efd2",
   "metadata": {},
   "source": [
    "Verificando valores nulos:"
   ]
  },
  {
   "cell_type": "code",
   "execution_count": 9,
   "id": "17dd7754",
   "metadata": {},
   "outputs": [
    {
     "name": "stdout",
     "output_type": "stream",
     "text": [
      "Nulos treino:\n",
      " PassengerId       0\n",
      "HomePlanet      201\n",
      "CryoSleep       217\n",
      "Cabin           199\n",
      "Destination     182\n",
      "Age             179\n",
      "VIP             203\n",
      "RoomService     181\n",
      "FoodCourt       183\n",
      "ShoppingMall    208\n",
      "Spa             183\n",
      "VRDeck          188\n",
      "Name            200\n",
      "Transported       0\n",
      "Group             0\n",
      "Deck            199\n",
      "Cabin Number    199\n",
      "Side            199\n",
      "dtype: int64 \n",
      "\n",
      "Nulos teste:\n",
      " PassengerId       0\n",
      "HomePlanet       87\n",
      "CryoSleep        93\n",
      "Cabin           100\n",
      "Destination      92\n",
      "Age              91\n",
      "VIP              93\n",
      "RoomService      82\n",
      "FoodCourt       106\n",
      "ShoppingMall     98\n",
      "Spa             101\n",
      "VRDeck           80\n",
      "Name             94\n",
      "Group             0\n",
      "Deck            100\n",
      "Cabin Number    100\n",
      "Side            100\n",
      "dtype: int64\n"
     ]
    }
   ],
   "source": [
    "print('Nulos treino:\\n', train.isnull().sum(), '\\n\\nNulos teste:\\n', test.isnull().sum())"
   ]
  },
  {
   "cell_type": "markdown",
   "id": "8f4f3ed1",
   "metadata": {},
   "source": [
    "Farei o tratamento dos dados nulos em cada atributo, começando pelos categóricos, onde substituirei os dados nulos pela moda."
   ]
  },
  {
   "cell_type": "code",
   "execution_count": 10,
   "id": "9a240b15",
   "metadata": {},
   "outputs": [
    {
     "name": "stdout",
     "output_type": "stream",
     "text": [
      "<class 'pandas.core.frame.DataFrame'>\n",
      "RangeIndex: 8693 entries, 0 to 8692\n",
      "Data columns (total 18 columns):\n",
      " #   Column        Non-Null Count  Dtype  \n",
      "---  ------        --------------  -----  \n",
      " 0   PassengerId   8693 non-null   object \n",
      " 1   HomePlanet    8492 non-null   object \n",
      " 2   CryoSleep     8476 non-null   object \n",
      " 3   Cabin         8494 non-null   object \n",
      " 4   Destination   8511 non-null   object \n",
      " 5   Age           8514 non-null   float64\n",
      " 6   VIP           8490 non-null   object \n",
      " 7   RoomService   8512 non-null   float64\n",
      " 8   FoodCourt     8510 non-null   float64\n",
      " 9   ShoppingMall  8485 non-null   float64\n",
      " 10  Spa           8510 non-null   float64\n",
      " 11  VRDeck        8505 non-null   float64\n",
      " 12  Name          8493 non-null   object \n",
      " 13  Transported   8693 non-null   bool   \n",
      " 14  Group         8693 non-null   object \n",
      " 15  Deck          8494 non-null   object \n",
      " 16  Cabin Number  8494 non-null   object \n",
      " 17  Side          8494 non-null   object \n",
      "dtypes: bool(1), float64(6), object(11)\n",
      "memory usage: 1.1+ MB\n"
     ]
    }
   ],
   "source": [
    "train.info()"
   ]
  },
  {
   "cell_type": "code",
   "execution_count": 11,
   "id": "6377cfc0",
   "metadata": {},
   "outputs": [],
   "source": [
    "def categoricos (df, atributo):\n",
    "    print('Valores:\\n', df[atributo].unique(), '\\n\\nQuantidades:\\n', df[atributo].value_counts(dropna = False))\n",
    "    contagem = df[atributo].value_counts(dropna = False)\n",
    "    contagem.plot.bar(color = 'blue', figsize = (10,5), title = df[atributo].name, ylabel = 'Count')"
   ]
  },
  {
   "cell_type": "code",
   "execution_count": 12,
   "id": "206089e6",
   "metadata": {},
   "outputs": [
    {
     "name": "stdout",
     "output_type": "stream",
     "text": [
      "Valores:\n",
      " ['Europa' 'Earth' 'Mars' nan] \n",
      "\n",
      "Quantidades:\n",
      " Earth     4602\n",
      "Europa    2131\n",
      "Mars      1759\n",
      "NaN        201\n",
      "Name: HomePlanet, dtype: int64\n"
     ]
    },
    {
     "data": {
      "image/png": "[encoded data removed]",
      "text/plain": [
       "<Figure size 720x360 with 1 Axes>"
      ]
     },
     "metadata": {
      "needs_background": "light"
     },
     "output_type": "display_data"
    }
   ],
   "source": [
    "#HomePlanet\n",
    "categoricos(train, 'HomePlanet')"
   ]
  },
  {
   "cell_type": "code",
   "execution_count": 13,
   "id": "7f0d751e",
   "metadata": {},
   "outputs": [
    {
     "name": "stdout",
     "output_type": "stream",
     "text": [
      "Valores:\n",
      " ['Europa' 'Earth' 'Mars'] \n",
      "\n",
      "Quantidades:\n",
      " Earth     4803\n",
      "Europa    2131\n",
      "Mars      1759\n",
      "Name: HomePlanet, dtype: int64\n"
     ]
    },
    {
     "data": {
      "image/png": "[encoded data removed]",
      "text/plain": [
       "<Figure size 720x360 with 1 Axes>"
      ]
     },
     "metadata": {
      "needs_background": "light"
     },
     "output_type": "display_data"
    }
   ],
   "source": [
    "train['HomePlanet'].fillna('Earth', inplace = True)\n",
    "test['HomePlanet'].fillna('Earth', inplace = True)\n",
    "categoricos(train, 'HomePlanet')"
   ]
  },
  {
   "cell_type": "code",
   "execution_count": 14,
   "id": "15cc8015",
   "metadata": {},
   "outputs": [
    {
     "name": "stdout",
     "output_type": "stream",
     "text": [
      "Valores:\n",
      " [False True nan] \n",
      "\n",
      "Quantidades:\n",
      " False    5439\n",
      "True     3037\n",
      "NaN       217\n",
      "Name: CryoSleep, dtype: int64\n"
     ]
    },
    {
     "data": {
      "image/png": "[encoded data removed]",
      "text/plain": [
       "<Figure size 720x360 with 1 Axes>"
      ]
     },
     "metadata": {
      "needs_background": "light"
     },
     "output_type": "display_data"
    }
   ],
   "source": [
    "#CryoSleep\n",
    "categoricos(train, 'CryoSleep')"
   ]
  },
  {
   "cell_type": "code",
   "execution_count": 15,
   "id": "9571c2db",
   "metadata": {},
   "outputs": [
    {
     "name": "stdout",
     "output_type": "stream",
     "text": [
      "Valores:\n",
      " [False  True] \n",
      "\n",
      "Quantidades:\n",
      " False    5656\n",
      "True     3037\n",
      "Name: CryoSleep, dtype: int64\n"
     ]
    },
    {
     "data": {
      "image/png": "[encoded data removed]",
      "text/plain": [
       "<Figure size 720x360 with 1 Axes>"
      ]
     },
     "metadata": {
      "needs_background": "light"
     },
     "output_type": "display_data"
    }
   ],
   "source": [
    "train['CryoSleep'].fillna(False, inplace = True)\n",
    "test['CryoSleep'].fillna(False, inplace = True)\n",
    "categoricos(train, 'CryoSleep')"
   ]
  },
  {
   "cell_type": "code",
   "execution_count": 16,
   "id": "feed1eee",
   "metadata": {},
   "outputs": [
    {
     "name": "stdout",
     "output_type": "stream",
     "text": [
      "Valores:\n",
      " ['TRAPPIST-1e' 'PSO J318.5-22' '55 Cancri e' nan] \n",
      "\n",
      "Quantidades:\n",
      " TRAPPIST-1e      5915\n",
      "55 Cancri e      1800\n",
      "PSO J318.5-22     796\n",
      "NaN               182\n",
      "Name: Destination, dtype: int64\n"
     ]
    },
    {
     "data": {
      "image/png": "[encoded data removed]",
      "text/plain": [
       "<Figure size 720x360 with 1 Axes>"
      ]
     },
     "metadata": {
      "needs_background": "light"
     },
     "output_type": "display_data"
    }
   ],
   "source": [
    "#Destination\n",
    "categoricos(train, 'Destination')"
   ]
  },
  {
   "cell_type": "code",
   "execution_count": 17,
   "id": "36919a15",
   "metadata": {},
   "outputs": [
    {
     "name": "stdout",
     "output_type": "stream",
     "text": [
      "Valores:\n",
      " ['TRAPPIST-1e' 'PSO J318.5-22' '55 Cancri e'] \n",
      "\n",
      "Quantidades:\n",
      " TRAPPIST-1e      6097\n",
      "55 Cancri e      1800\n",
      "PSO J318.5-22     796\n",
      "Name: Destination, dtype: int64\n"
     ]
    },
    {
     "data": {
      "image/png": "[encoded data removed]",
      "text/plain": [
       "<Figure size 720x360 with 1 Axes>"
      ]
     },
     "metadata": {
      "needs_background": "light"
     },
     "output_type": "display_data"
    }
   ],
   "source": [
    "train['Destination'].fillna('TRAPPIST-1e', inplace = True)\n",
    "test['Destination'].fillna('TRAPPIST-1e', inplace = True)\n",
    "categoricos(train, 'Destination')"
   ]
  },
  {
   "cell_type": "code",
   "execution_count": 18,
   "id": "52282769",
   "metadata": {},
   "outputs": [
    {
     "name": "stdout",
     "output_type": "stream",
     "text": [
      "Valores:\n",
      " [False True nan] \n",
      "\n",
      "Quantidades:\n",
      " False    8291\n",
      "NaN       203\n",
      "True      199\n",
      "Name: VIP, dtype: int64\n"
     ]
    },
    {
     "data": {
      "image/png": "[encoded data removed]",
      "text/plain": [
       "<Figure size 720x360 with 1 Axes>"
      ]
     },
     "metadata": {
      "needs_background": "light"
     },
     "output_type": "display_data"
    }
   ],
   "source": [
    "#VIP\n",
    "categoricos(train, 'VIP')"
   ]
  },
  {
   "cell_type": "code",
   "execution_count": 19,
   "id": "56629947",
   "metadata": {},
   "outputs": [
    {
     "name": "stdout",
     "output_type": "stream",
     "text": [
      "Valores:\n",
      " [False  True] \n",
      "\n",
      "Quantidades:\n",
      " False    8494\n",
      "True      199\n",
      "Name: VIP, dtype: int64\n"
     ]
    },
    {
     "data": {
      "image/png": "[encoded data removed]",
      "text/plain": [
       "<Figure size 720x360 with 1 Axes>"
      ]
     },
     "metadata": {
      "needs_background": "light"
     },
     "output_type": "display_data"
    }
   ],
   "source": [
    "train['VIP'].fillna(False, inplace = True)\n",
    "test['VIP'].fillna(False, inplace = True)\n",
    "categoricos(train, 'VIP')"
   ]
  },
  {
   "cell_type": "code",
   "execution_count": 20,
   "id": "4860195a",
   "metadata": {},
   "outputs": [
    {
     "name": "stdout",
     "output_type": "stream",
     "text": [
      "Valores:\n",
      " ['B' 'F' 'A' 'G' nan 'E' 'D' 'C' 'T'] \n",
      "\n",
      "Quantidades:\n",
      " F      2794\n",
      "G      2559\n",
      "E       876\n",
      "B       779\n",
      "C       747\n",
      "D       478\n",
      "A       256\n",
      "NaN     199\n",
      "T         5\n",
      "Name: Deck, dtype: int64\n"
     ]
    },
    {
     "data": {
      "image/png": "[encoded data removed]",
      "text/plain": [
       "<Figure size 720x360 with 1 Axes>"
      ]
     },
     "metadata": {
      "needs_background": "light"
     },
     "output_type": "display_data"
    }
   ],
   "source": [
    "#Deck\n",
    "categoricos(train, 'Deck')"
   ]
  },
  {
   "cell_type": "code",
   "execution_count": 21,
   "id": "0f74fe01",
   "metadata": {},
   "outputs": [
    {
     "name": "stdout",
     "output_type": "stream",
     "text": [
      "Valores:\n",
      " ['B' 'F' 'A' 'G' 'E' 'D' 'C' 'T'] \n",
      "\n",
      "Quantidades:\n",
      " F    2993\n",
      "G    2559\n",
      "E     876\n",
      "B     779\n",
      "C     747\n",
      "D     478\n",
      "A     256\n",
      "T       5\n",
      "Name: Deck, dtype: int64\n"
     ]
    },
    {
     "data": {
      "image/png": "[encoded data removed]",
      "text/plain": [
       "<Figure size 720x360 with 1 Axes>"
      ]
     },
     "metadata": {
      "needs_background": "light"
     },
     "output_type": "display_data"
    }
   ],
   "source": [
    "train['Deck'].fillna('F', inplace = True)\n",
    "test['Deck'].fillna('F', inplace = True)\n",
    "categoricos(train, 'Deck')"
   ]
  },
  {
   "cell_type": "code",
   "execution_count": 22,
   "id": "cf2c2d22",
   "metadata": {},
   "outputs": [
    {
     "name": "stdout",
     "output_type": "stream",
     "text": [
      "Valores:\n",
      " ['P' 'S' nan] \n",
      "\n",
      "Quantidades:\n",
      " S      4288\n",
      "P      4206\n",
      "NaN     199\n",
      "Name: Side, dtype: int64\n"
     ]
    },
    {
     "data": {
      "image/png": "[encoded data removed]",
      "text/plain": [
       "<Figure size 720x360 with 1 Axes>"
      ]
     },
     "metadata": {
      "needs_background": "light"
     },
     "output_type": "display_data"
    }
   ],
   "source": [
    "#Side\n",
    "categoricos(train, 'Side')"
   ]
  },
  {
   "cell_type": "code",
   "execution_count": 23,
   "id": "7a1293ec",
   "metadata": {},
   "outputs": [
    {
     "name": "stdout",
     "output_type": "stream",
     "text": [
      "Valores:\n",
      " ['P' 'S'] \n",
      "\n",
      "Quantidades:\n",
      " S    4487\n",
      "P    4206\n",
      "Name: Side, dtype: int64\n"
     ]
    },
    {
     "data": {
      "image/png": "[encoded data removed]",
      "text/plain": [
       "<Figure size 720x360 with 1 Axes>"
      ]
     },
     "metadata": {
      "needs_background": "light"
     },
     "output_type": "display_data"
    }
   ],
   "source": [
    "train['Side'].fillna('S', inplace = True)\n",
    "test['Side'].fillna('S', inplace = True)\n",
    "categoricos(train, 'Side')"
   ]
  },
  {
   "cell_type": "code",
   "execution_count": 24,
   "id": "b0e4ca7b",
   "metadata": {},
   "outputs": [],
   "source": [
    "train['Group'] = train['Group'].astype('int32', errors ='ignore')\n",
    "test['Group'] = test['Group'].astype('int32', errors = 'ignore')"
   ]
  },
  {
   "cell_type": "code",
   "execution_count": 25,
   "id": "01a64617",
   "metadata": {},
   "outputs": [
    {
     "name": "stdout",
     "output_type": "stream",
     "text": [
      "<class 'pandas.core.frame.DataFrame'>\n",
      "RangeIndex: 8693 entries, 0 to 8692\n",
      "Data columns (total 18 columns):\n",
      " #   Column        Non-Null Count  Dtype  \n",
      "---  ------        --------------  -----  \n",
      " 0   PassengerId   8693 non-null   object \n",
      " 1   HomePlanet    8693 non-null   object \n",
      " 2   CryoSleep     8693 non-null   bool   \n",
      " 3   Cabin         8494 non-null   object \n",
      " 4   Destination   8693 non-null   object \n",
      " 5   Age           8514 non-null   float64\n",
      " 6   VIP           8693 non-null   bool   \n",
      " 7   RoomService   8512 non-null   float64\n",
      " 8   FoodCourt     8510 non-null   float64\n",
      " 9   ShoppingMall  8485 non-null   float64\n",
      " 10  Spa           8510 non-null   float64\n",
      " 11  VRDeck        8505 non-null   float64\n",
      " 12  Name          8493 non-null   object \n",
      " 13  Transported   8693 non-null   bool   \n",
      " 14  Group         8693 non-null   int32  \n",
      " 15  Deck          8693 non-null   object \n",
      " 16  Cabin Number  8494 non-null   object \n",
      " 17  Side          8693 non-null   object \n",
      "dtypes: bool(3), float64(6), int32(1), object(8)\n",
      "memory usage: 1010.3+ KB\n"
     ]
    }
   ],
   "source": [
    "train.info()"
   ]
  },
  {
   "cell_type": "code",
   "execution_count": 26,
   "id": "7bafa462",
   "metadata": {},
   "outputs": [
    {
     "name": "stdout",
     "output_type": "stream",
     "text": [
      "Nulos treino:\n",
      " PassengerId       0\n",
      "HomePlanet        0\n",
      "CryoSleep         0\n",
      "Cabin           199\n",
      "Destination       0\n",
      "Age             179\n",
      "VIP               0\n",
      "RoomService     181\n",
      "FoodCourt       183\n",
      "ShoppingMall    208\n",
      "Spa             183\n",
      "VRDeck          188\n",
      "Name            200\n",
      "Transported       0\n",
      "Group             0\n",
      "Deck              0\n",
      "Cabin Number    199\n",
      "Side              0\n",
      "dtype: int64 \n",
      "\n",
      "Nulos teste:\n",
      " PassengerId       0\n",
      "HomePlanet        0\n",
      "CryoSleep         0\n",
      "Cabin           100\n",
      "Destination       0\n",
      "Age              91\n",
      "VIP               0\n",
      "RoomService      82\n",
      "FoodCourt       106\n",
      "ShoppingMall     98\n",
      "Spa             101\n",
      "VRDeck           80\n",
      "Name             94\n",
      "Group             0\n",
      "Deck              0\n",
      "Cabin Number    100\n",
      "Side              0\n",
      "dtype: int64\n"
     ]
    }
   ],
   "source": [
    "print('Nulos treino:\\n', train.isnull().sum(), '\\n\\nNulos teste:\\n', test.isnull().sum())"
   ]
  },
  {
   "cell_type": "code",
   "execution_count": 27,
   "id": "a88fc78f",
   "metadata": {},
   "outputs": [],
   "source": [
    "def numericos (df, atributo, bins):\n",
    "    print(df[atributo].describe())\n",
    "    fig = plt.figure(figsize = (15,5))\n",
    "    fig.add_subplot(1,2,1)\n",
    "    plt.hist(df[atributo], color = 'blue', bins = bins)\n",
    "    plt.title('Histograma')\n",
    "    plt.xlabel(df[atributo].name)\n",
    "    plt.ylabel('Count')\n",
    "    fig.add_subplot(1,2,2)\n",
    "    plt.title('Boxplot')\n",
    "    sns.boxplot(x = df[atributo])"
   ]
  },
  {
   "cell_type": "code",
   "execution_count": 28,
   "id": "4b5bda1a",
   "metadata": {},
   "outputs": [
    {
     "name": "stdout",
     "output_type": "stream",
     "text": [
      "count    8514.000000\n",
      "mean       28.827930\n",
      "std        14.489021\n",
      "min         0.000000\n",
      "25%        19.000000\n",
      "50%        27.000000\n",
      "75%        38.000000\n",
      "max        79.000000\n",
      "Name: Age, dtype: float64\n"
     ]
    },
    {
     "data": {
      "image/png": "[encoded data removed]",
      "text/plain": [
       "<Figure size 1080x360 with 2 Axes>"
      ]
     },
     "metadata": {
      "needs_background": "light"
     },
     "output_type": "display_data"
    }
   ],
   "source": [
    "#Age\n",
    "numericos(train, 'Age', 20)"
   ]
  },
  {
   "cell_type": "markdown",
   "id": "cd771247",
   "metadata": {},
   "source": [
    "Em Age, além de alguns dados nulos, também temos idades iguais a 0, o que não seria possível. Neste caso, farei a substituição dos dados nulos e das idades iguais a 0 pela mediana, que no caso é 27."
   ]
  },
  {
   "cell_type": "code",
   "execution_count": 29,
   "id": "299eda13",
   "metadata": {},
   "outputs": [
    {
     "name": "stdout",
     "output_type": "stream",
     "text": [
      "count    8693.000000\n",
      "mean       29.343150\n",
      "std        13.728128\n",
      "min         1.000000\n",
      "25%        20.000000\n",
      "50%        27.000000\n",
      "75%        37.000000\n",
      "max        79.000000\n",
      "Name: Age, dtype: float64\n"
     ]
    },
    {
     "data": {
      "image/png": "[encoded data removed]",
      "text/plain": [
       "<Figure size 1080x360 with 2 Axes>"
      ]
     },
     "metadata": {
      "needs_background": "light"
     },
     "output_type": "display_data"
    }
   ],
   "source": [
    "mediana_age = train['Age'].median()\n",
    "train['Age'].fillna(mediana_age, inplace = True)\n",
    "test['Age'].fillna(mediana_age, inplace = True)\n",
    "train.loc[train['Age'] == 0, 'Age'] = mediana_age\n",
    "test.loc[train['Age'] == 0, 'Age'] = mediana_age\n",
    "numericos(train, 'Age', 20)"
   ]
  },
  {
   "cell_type": "code",
   "execution_count": 30,
   "id": "ce9b8155",
   "metadata": {},
   "outputs": [
    {
     "name": "stdout",
     "output_type": "stream",
     "text": [
      "count     8512.000000\n",
      "mean       224.687617\n",
      "std        666.717663\n",
      "min          0.000000\n",
      "25%          0.000000\n",
      "50%          0.000000\n",
      "75%         47.000000\n",
      "max      14327.000000\n",
      "Name: RoomService, dtype: float64\n"
     ]
    },
    {
     "data": {
      "image/png": "[encoded data removed]",
      "text/plain": [
       "<Figure size 1080x360 with 2 Axes>"
      ]
     },
     "metadata": {
      "needs_background": "light"
     },
     "output_type": "display_data"
    }
   ],
   "source": [
    "#RoomService\n",
    "numericos(train, 'RoomService', 10)"
   ]
  },
  {
   "cell_type": "code",
   "execution_count": 31,
   "id": "ee7bb863",
   "metadata": {},
   "outputs": [
    {
     "name": "stdout",
     "output_type": "stream",
     "text": [
      "count     8693.000000\n",
      "mean       220.009318\n",
      "std        660.519050\n",
      "min          0.000000\n",
      "25%          0.000000\n",
      "50%          0.000000\n",
      "75%         41.000000\n",
      "max      14327.000000\n",
      "Name: RoomService, dtype: float64\n"
     ]
    },
    {
     "data": {
      "image/png": "[encoded data removed]",
      "text/plain": [
       "<Figure size 1080x360 with 2 Axes>"
      ]
     },
     "metadata": {
      "needs_background": "light"
     },
     "output_type": "display_data"
    }
   ],
   "source": [
    "train['RoomService'].fillna(0, inplace = True)\n",
    "test['RoomService'].fillna(0, inplace = True)\n",
    "numericos(train, 'RoomService', 10)"
   ]
  },
  {
   "cell_type": "code",
   "execution_count": 32,
   "id": "fe8dd005",
   "metadata": {},
   "outputs": [
    {
     "name": "stdout",
     "output_type": "stream",
     "text": [
      "count     8510.000000\n",
      "mean       458.077203\n",
      "std       1611.489240\n",
      "min          0.000000\n",
      "25%          0.000000\n",
      "50%          0.000000\n",
      "75%         76.000000\n",
      "max      29813.000000\n",
      "Name: FoodCourt, dtype: float64\n"
     ]
    },
    {
     "data": {
      "image/png": "[encoded data removed]",
      "text/plain": [
       "<Figure size 1080x360 with 2 Axes>"
      ]
     },
     "metadata": {
      "needs_background": "light"
     },
     "output_type": "display_data"
    }
   ],
   "source": [
    "#FoodCourt\n",
    "numericos(train, 'FoodCourt', 10) "
   ]
  },
  {
   "cell_type": "code",
   "execution_count": 33,
   "id": "2237cbe3",
   "metadata": {},
   "outputs": [
    {
     "name": "stdout",
     "output_type": "stream",
     "text": [
      "count     8693.000000\n",
      "mean       448.434027\n",
      "std       1595.790627\n",
      "min          0.000000\n",
      "25%          0.000000\n",
      "50%          0.000000\n",
      "75%         61.000000\n",
      "max      29813.000000\n",
      "Name: FoodCourt, dtype: float64\n"
     ]
    },
    {
     "data": {
      "image/png": "[encoded data removed]",
      "text/plain": [
       "<Figure size 1080x360 with 2 Axes>"
      ]
     },
     "metadata": {
      "needs_background": "light"
     },
     "output_type": "display_data"
    }
   ],
   "source": [
    "train['FoodCourt'].fillna(0, inplace = True)\n",
    "test['FoodCourt'].fillna(0, inplace = True)\n",
    "numericos(train, 'FoodCourt', 10)"
   ]
  },
  {
   "cell_type": "code",
   "execution_count": 34,
   "id": "3f6731de",
   "metadata": {},
   "outputs": [
    {
     "name": "stdout",
     "output_type": "stream",
     "text": [
      "count     8485.000000\n",
      "mean       173.729169\n",
      "std        604.696458\n",
      "min          0.000000\n",
      "25%          0.000000\n",
      "50%          0.000000\n",
      "75%         27.000000\n",
      "max      23492.000000\n",
      "Name: ShoppingMall, dtype: float64\n"
     ]
    },
    {
     "data": {
      "image/png": "[encoded data removed]",
      "text/plain": [
       "<Figure size 1080x360 with 2 Axes>"
      ]
     },
     "metadata": {
      "needs_background": "light"
     },
     "output_type": "display_data"
    }
   ],
   "source": [
    "#ShoppingMall\n",
    "numericos(train, 'ShoppingMall', 10)"
   ]
  },
  {
   "cell_type": "code",
   "execution_count": 35,
   "id": "44a5f374",
   "metadata": {},
   "outputs": [
    {
     "name": "stdout",
     "output_type": "stream",
     "text": [
      "count     8693.000000\n",
      "mean       169.572300\n",
      "std        598.007164\n",
      "min          0.000000\n",
      "25%          0.000000\n",
      "50%          0.000000\n",
      "75%         22.000000\n",
      "max      23492.000000\n",
      "Name: ShoppingMall, dtype: float64\n"
     ]
    },
    {
     "data": {
      "image/png": "[encoded data removed]",
      "text/plain": [
       "<Figure size 1080x360 with 2 Axes>"
      ]
     },
     "metadata": {
      "needs_background": "light"
     },
     "output_type": "display_data"
    }
   ],
   "source": [
    "train['ShoppingMall'].fillna(0, inplace = True)\n",
    "test['ShoppingMall'].fillna(0, inplace = True)\n",
    "numericos(train, 'ShoppingMall', 10)"
   ]
  },
  {
   "cell_type": "code",
   "execution_count": 36,
   "id": "2d690536",
   "metadata": {},
   "outputs": [
    {
     "name": "stdout",
     "output_type": "stream",
     "text": [
      "count     8510.000000\n",
      "mean       311.138778\n",
      "std       1136.705535\n",
      "min          0.000000\n",
      "25%          0.000000\n",
      "50%          0.000000\n",
      "75%         59.000000\n",
      "max      22408.000000\n",
      "Name: Spa, dtype: float64\n"
     ]
    },
    {
     "data": {
      "image/png": "[encoded data removed]",
      "text/plain": [
       "<Figure size 1080x360 with 2 Axes>"
      ]
     },
     "metadata": {
      "needs_background": "light"
     },
     "output_type": "display_data"
    }
   ],
   "source": [
    "#Spa\n",
    "numericos(train, 'Spa', 10)"
   ]
  },
  {
   "cell_type": "code",
   "execution_count": 37,
   "id": "142319bf",
   "metadata": {},
   "outputs": [
    {
     "name": "stdout",
     "output_type": "stream",
     "text": [
      "count     8693.000000\n",
      "mean       304.588865\n",
      "std       1125.562559\n",
      "min          0.000000\n",
      "25%          0.000000\n",
      "50%          0.000000\n",
      "75%         53.000000\n",
      "max      22408.000000\n",
      "Name: Spa, dtype: float64\n"
     ]
    },
    {
     "data": {
      "image/png": "[encoded data removed]",
      "text/plain": [
       "<Figure size 1080x360 with 2 Axes>"
      ]
     },
     "metadata": {
      "needs_background": "light"
     },
     "output_type": "display_data"
    }
   ],
   "source": [
    "train['Spa'].fillna(0, inplace = True)\n",
    "test['Spa'].fillna(0, inplace = True)\n",
    "numericos(train, 'Spa', 10)"
   ]
  },
  {
   "cell_type": "code",
   "execution_count": 38,
   "id": "d3662bda",
   "metadata": {},
   "outputs": [
    {
     "name": "stdout",
     "output_type": "stream",
     "text": [
      "count     8505.000000\n",
      "mean       304.854791\n",
      "std       1145.717189\n",
      "min          0.000000\n",
      "25%          0.000000\n",
      "50%          0.000000\n",
      "75%         46.000000\n",
      "max      24133.000000\n",
      "Name: VRDeck, dtype: float64\n"
     ]
    },
    {
     "data": {
      "image/png": "[encoded data removed]",
      "text/plain": [
       "<Figure size 1080x360 with 2 Axes>"
      ]
     },
     "metadata": {
      "needs_background": "light"
     },
     "output_type": "display_data"
    }
   ],
   "source": [
    "#VRDeck\n",
    "numericos(train, 'VRDeck', 10)"
   ]
  },
  {
   "cell_type": "code",
   "execution_count": 39,
   "id": "f7583e22",
   "metadata": {},
   "outputs": [
    {
     "name": "stdout",
     "output_type": "stream",
     "text": [
      "count     8693.000000\n",
      "mean       298.261820\n",
      "std       1134.126417\n",
      "min          0.000000\n",
      "25%          0.000000\n",
      "50%          0.000000\n",
      "75%         40.000000\n",
      "max      24133.000000\n",
      "Name: VRDeck, dtype: float64\n"
     ]
    },
    {
     "data": {
      "image/png": "[encoded data removed]",
      "text/plain": [
       "<Figure size 1080x360 with 2 Axes>"
      ]
     },
     "metadata": {
      "needs_background": "light"
     },
     "output_type": "display_data"
    }
   ],
   "source": [
    "train['VRDeck'].fillna(0, inplace = True)\n",
    "test['VRDeck'].fillna(0, inplace = True)\n",
    "numericos(train, 'VRDeck', 10)"
   ]
  },
  {
   "cell_type": "markdown",
   "id": "d4bcda6c",
   "metadata": {},
   "source": [
    "Nos atributos RoomService, FoodCourt, Spa, VRDeck e ShoppingMall, que representam os gastos dos passageiros com os luxos da nave espacial, podemos observar que a maioria dos passageiros não gastaram nada, e alguns poucos tiveram gastos mais elevados, o que pode ser notado pelos Outliers, mais visíveis no BoxPlot. Nestes casos, a mediana ficou em 0, como demonstrado no quartil 50%, e substituí os valores faltantes pela mediana."
   ]
  },
  {
   "cell_type": "markdown",
   "id": "d48f669d",
   "metadata": {},
   "source": [
    "Agora farei exclusão de algumas variáveis, que não terão contribuição com o modelo de Machine Learning."
   ]
  },
  {
   "cell_type": "code",
   "execution_count": 40,
   "id": "aa6038e5",
   "metadata": {},
   "outputs": [],
   "source": [
    "train.drop(columns = ['PassengerId', 'Cabin', 'Name', 'Cabin Number'], inplace = True)\n",
    "test.drop(columns = ['PassengerId', 'Cabin', 'Name', 'Cabin Number'], inplace = True)"
   ]
  },
  {
   "cell_type": "code",
   "execution_count": 41,
   "id": "773b7250",
   "metadata": {},
   "outputs": [
    {
     "name": "stdout",
     "output_type": "stream",
     "text": [
      "Nulos treino:\n",
      " HomePlanet      0\n",
      "CryoSleep       0\n",
      "Destination     0\n",
      "Age             0\n",
      "VIP             0\n",
      "RoomService     0\n",
      "FoodCourt       0\n",
      "ShoppingMall    0\n",
      "Spa             0\n",
      "VRDeck          0\n",
      "Transported     0\n",
      "Group           0\n",
      "Deck            0\n",
      "Side            0\n",
      "dtype: int64 \n",
      "\n",
      "Nulos teste:\n",
      " HomePlanet      0\n",
      "CryoSleep       0\n",
      "Destination     0\n",
      "Age             0\n",
      "VIP             0\n",
      "RoomService     0\n",
      "FoodCourt       0\n",
      "ShoppingMall    0\n",
      "Spa             0\n",
      "VRDeck          0\n",
      "Group           0\n",
      "Deck            0\n",
      "Side            0\n",
      "dtype: int64\n",
      "<class 'pandas.core.frame.DataFrame'>\n",
      "RangeIndex: 8693 entries, 0 to 8692\n",
      "Data columns (total 14 columns):\n",
      " #   Column        Non-Null Count  Dtype  \n",
      "---  ------        --------------  -----  \n",
      " 0   HomePlanet    8693 non-null   object \n",
      " 1   CryoSleep     8693 non-null   bool   \n",
      " 2   Destination   8693 non-null   object \n",
      " 3   Age           8693 non-null   float64\n",
      " 4   VIP           8693 non-null   bool   \n",
      " 5   RoomService   8693 non-null   float64\n",
      " 6   FoodCourt     8693 non-null   float64\n",
      " 7   ShoppingMall  8693 non-null   float64\n",
      " 8   Spa           8693 non-null   float64\n",
      " 9   VRDeck        8693 non-null   float64\n",
      " 10  Transported   8693 non-null   bool   \n",
      " 11  Group         8693 non-null   int32  \n",
      " 12  Deck          8693 non-null   object \n",
      " 13  Side          8693 non-null   object \n",
      "dtypes: bool(3), float64(6), int32(1), object(4)\n",
      "memory usage: 738.7+ KB\n"
     ]
    }
   ],
   "source": [
    "print('Nulos treino:\\n', train.isnull().sum(), '\\n\\nNulos teste:\\n', test.isnull().sum())\n",
    "train.info()"
   ]
  },
  {
   "cell_type": "markdown",
   "id": "5ccfcb8c",
   "metadata": {},
   "source": [
    "O próximo passo é deixar os valores numéricos em escala."
   ]
  },
  {
   "cell_type": "code",
   "execution_count": 42,
   "id": "225b4777",
   "metadata": {},
   "outputs": [
    {
     "data": {
      "text/html": [
       "<div>\n",
       "<style scoped>\n",
       "    .dataframe tbody tr th:only-of-type {\n",
       "        vertical-align: middle;\n",
       "    }\n",
       "\n",
       "    .dataframe tbody tr th {\n",
       "        vertical-align: top;\n",
       "    }\n",
       "\n",
       "    .dataframe thead th {\n",
       "        text-align: right;\n",
       "    }\n",
       "</style>\n",
       "<table border=\"1\" class=\"dataframe\">\n",
       "  <thead>\n",
       "    <tr style=\"text-align: right;\">\n",
       "      <th></th>\n",
       "      <th>HomePlanet</th>\n",
       "      <th>CryoSleep</th>\n",
       "      <th>Destination</th>\n",
       "      <th>VIP</th>\n",
       "      <th>Transported</th>\n",
       "      <th>Deck</th>\n",
       "      <th>Side</th>\n",
       "      <th>Age</th>\n",
       "      <th>RoomService</th>\n",
       "      <th>FoodCourt</th>\n",
       "      <th>ShoppingMall</th>\n",
       "      <th>Spa</th>\n",
       "      <th>VRDeck</th>\n",
       "      <th>Group</th>\n",
       "    </tr>\n",
       "  </thead>\n",
       "  <tbody>\n",
       "    <tr>\n",
       "      <th>0</th>\n",
       "      <td>Europa</td>\n",
       "      <td>False</td>\n",
       "      <td>TRAPPIST-1e</td>\n",
       "      <td>False</td>\n",
       "      <td>False</td>\n",
       "      <td>B</td>\n",
       "      <td>P</td>\n",
       "      <td>0.703476</td>\n",
       "      <td>-0.333105</td>\n",
       "      <td>-0.281027</td>\n",
       "      <td>-0.283579</td>\n",
       "      <td>-0.270626</td>\n",
       "      <td>-0.263003</td>\n",
       "      <td>-1.734409</td>\n",
       "    </tr>\n",
       "    <tr>\n",
       "      <th>1</th>\n",
       "      <td>Earth</td>\n",
       "      <td>False</td>\n",
       "      <td>TRAPPIST-1e</td>\n",
       "      <td>False</td>\n",
       "      <td>True</td>\n",
       "      <td>F</td>\n",
       "      <td>S</td>\n",
       "      <td>-0.389234</td>\n",
       "      <td>-0.168073</td>\n",
       "      <td>-0.275387</td>\n",
       "      <td>-0.241771</td>\n",
       "      <td>0.217158</td>\n",
       "      <td>-0.224205</td>\n",
       "      <td>-1.734034</td>\n",
       "    </tr>\n",
       "    <tr>\n",
       "      <th>2</th>\n",
       "      <td>Europa</td>\n",
       "      <td>False</td>\n",
       "      <td>TRAPPIST-1e</td>\n",
       "      <td>True</td>\n",
       "      <td>False</td>\n",
       "      <td>A</td>\n",
       "      <td>S</td>\n",
       "      <td>2.087575</td>\n",
       "      <td>-0.268001</td>\n",
       "      <td>1.959998</td>\n",
       "      <td>-0.283579</td>\n",
       "      <td>5.695623</td>\n",
       "      <td>-0.219796</td>\n",
       "      <td>-1.733660</td>\n",
       "    </tr>\n",
       "    <tr>\n",
       "      <th>3</th>\n",
       "      <td>Europa</td>\n",
       "      <td>False</td>\n",
       "      <td>TRAPPIST-1e</td>\n",
       "      <td>False</td>\n",
       "      <td>False</td>\n",
       "      <td>A</td>\n",
       "      <td>S</td>\n",
       "      <td>0.266392</td>\n",
       "      <td>-0.333105</td>\n",
       "      <td>0.523010</td>\n",
       "      <td>0.336851</td>\n",
       "      <td>2.687176</td>\n",
       "      <td>-0.092818</td>\n",
       "      <td>-1.733660</td>\n",
       "    </tr>\n",
       "    <tr>\n",
       "      <th>4</th>\n",
       "      <td>Earth</td>\n",
       "      <td>False</td>\n",
       "      <td>TRAPPIST-1e</td>\n",
       "      <td>False</td>\n",
       "      <td>True</td>\n",
       "      <td>F</td>\n",
       "      <td>S</td>\n",
       "      <td>-0.972013</td>\n",
       "      <td>0.125652</td>\n",
       "      <td>-0.237159</td>\n",
       "      <td>-0.031059</td>\n",
       "      <td>0.231374</td>\n",
       "      <td>-0.261240</td>\n",
       "      <td>-1.733286</td>\n",
       "    </tr>\n",
       "  </tbody>\n",
       "</table>\n",
       "</div>"
      ],
      "text/plain": [
       "  HomePlanet  CryoSleep  Destination    VIP  Transported Deck Side       Age  \\\n",
       "0     Europa      False  TRAPPIST-1e  False        False    B    P  0.703476   \n",
       "1      Earth      False  TRAPPIST-1e  False         True    F    S -0.389234   \n",
       "2     Europa      False  TRAPPIST-1e   True        False    A    S  2.087575   \n",
       "3     Europa      False  TRAPPIST-1e  False        False    A    S  0.266392   \n",
       "4      Earth      False  TRAPPIST-1e  False         True    F    S -0.972013   \n",
       "\n",
       "   RoomService  FoodCourt  ShoppingMall       Spa    VRDeck     Group  \n",
       "0    -0.333105  -0.281027     -0.283579 -0.270626 -0.263003 -1.734409  \n",
       "1    -0.168073  -0.275387     -0.241771  0.217158 -0.224205 -1.734034  \n",
       "2    -0.268001   1.959998     -0.283579  5.695623 -0.219796 -1.733660  \n",
       "3    -0.333105   0.523010      0.336851  2.687176 -0.092818 -1.733660  \n",
       "4     0.125652  -0.237159     -0.031059  0.231374 -0.261240 -1.733286  "
      ]
     },
     "execution_count": 42,
     "metadata": {},
     "output_type": "execute_result"
    }
   ],
   "source": [
    "#Atributos numéricos\n",
    "quantitativos = ['Age', 'RoomService', 'FoodCourt', 'ShoppingMall', 'Spa', 'VRDeck', 'Group']\n",
    "\n",
    "#StandardScaler\n",
    "scaler = StandardScaler()\n",
    "\n",
    "#Normalizando\n",
    "atributos_escala = scaler.fit_transform(train[quantitativos])\n",
    "atributos_escala_test = scaler.transform(test[quantitativos])\n",
    "atributos_escala = pd.DataFrame(atributos_escala, columns = quantitativos)\n",
    "atributos_escala_test = pd.DataFrame(atributos_escala_test, columns = quantitativos)\n",
    "\n",
    "#Excluíndo as colunas sem normalização\n",
    "train.drop(columns = quantitativos, inplace = True)\n",
    "test.drop(columns = quantitativos, inplace = True)\n",
    "\n",
    "#Concatenando as novas colunas normalizadas\n",
    "train = pd.concat([train, atributos_escala], axis = 1)\n",
    "test = pd.concat([test, atributos_escala_test], axis = 1)\n",
    "\n",
    "#Visualizando o DataFrame com as alterações\n",
    "train.head()"
   ]
  },
  {
   "cell_type": "markdown",
   "id": "1f0ae908",
   "metadata": {},
   "source": [
    "Agora para utilizar os atributos categóricos no modelo, farei a transformação em numéricos utilizando get_dummies do pandas."
   ]
  },
  {
   "cell_type": "code",
   "execution_count": 43,
   "id": "ae078c09",
   "metadata": {},
   "outputs": [
    {
     "data": {
      "text/html": [
       "<div>\n",
       "<style scoped>\n",
       "    .dataframe tbody tr th:only-of-type {\n",
       "        vertical-align: middle;\n",
       "    }\n",
       "\n",
       "    .dataframe tbody tr th {\n",
       "        vertical-align: top;\n",
       "    }\n",
       "\n",
       "    .dataframe thead th {\n",
       "        text-align: right;\n",
       "    }\n",
       "</style>\n",
       "<table border=\"1\" class=\"dataframe\">\n",
       "  <thead>\n",
       "    <tr style=\"text-align: right;\">\n",
       "      <th></th>\n",
       "      <th>CryoSleep</th>\n",
       "      <th>VIP</th>\n",
       "      <th>Transported</th>\n",
       "      <th>Age</th>\n",
       "      <th>RoomService</th>\n",
       "      <th>FoodCourt</th>\n",
       "      <th>ShoppingMall</th>\n",
       "      <th>Spa</th>\n",
       "      <th>VRDeck</th>\n",
       "      <th>Group</th>\n",
       "      <th>...</th>\n",
       "      <th>Destination_PSO J318.5-22</th>\n",
       "      <th>Destination_TRAPPIST-1e</th>\n",
       "      <th>Deck_B</th>\n",
       "      <th>Deck_C</th>\n",
       "      <th>Deck_D</th>\n",
       "      <th>Deck_E</th>\n",
       "      <th>Deck_F</th>\n",
       "      <th>Deck_G</th>\n",
       "      <th>Deck_T</th>\n",
       "      <th>Side_S</th>\n",
       "    </tr>\n",
       "  </thead>\n",
       "  <tbody>\n",
       "    <tr>\n",
       "      <th>0</th>\n",
       "      <td>False</td>\n",
       "      <td>False</td>\n",
       "      <td>False</td>\n",
       "      <td>0.703476</td>\n",
       "      <td>-0.333105</td>\n",
       "      <td>-0.281027</td>\n",
       "      <td>-0.283579</td>\n",
       "      <td>-0.270626</td>\n",
       "      <td>-0.263003</td>\n",
       "      <td>-1.734409</td>\n",
       "      <td>...</td>\n",
       "      <td>0</td>\n",
       "      <td>1</td>\n",
       "      <td>1</td>\n",
       "      <td>0</td>\n",
       "      <td>0</td>\n",
       "      <td>0</td>\n",
       "      <td>0</td>\n",
       "      <td>0</td>\n",
       "      <td>0</td>\n",
       "      <td>0</td>\n",
       "    </tr>\n",
       "    <tr>\n",
       "      <th>1</th>\n",
       "      <td>False</td>\n",
       "      <td>False</td>\n",
       "      <td>True</td>\n",
       "      <td>-0.389234</td>\n",
       "      <td>-0.168073</td>\n",
       "      <td>-0.275387</td>\n",
       "      <td>-0.241771</td>\n",
       "      <td>0.217158</td>\n",
       "      <td>-0.224205</td>\n",
       "      <td>-1.734034</td>\n",
       "      <td>...</td>\n",
       "      <td>0</td>\n",
       "      <td>1</td>\n",
       "      <td>0</td>\n",
       "      <td>0</td>\n",
       "      <td>0</td>\n",
       "      <td>0</td>\n",
       "      <td>1</td>\n",
       "      <td>0</td>\n",
       "      <td>0</td>\n",
       "      <td>1</td>\n",
       "    </tr>\n",
       "    <tr>\n",
       "      <th>2</th>\n",
       "      <td>False</td>\n",
       "      <td>True</td>\n",
       "      <td>False</td>\n",
       "      <td>2.087575</td>\n",
       "      <td>-0.268001</td>\n",
       "      <td>1.959998</td>\n",
       "      <td>-0.283579</td>\n",
       "      <td>5.695623</td>\n",
       "      <td>-0.219796</td>\n",
       "      <td>-1.733660</td>\n",
       "      <td>...</td>\n",
       "      <td>0</td>\n",
       "      <td>1</td>\n",
       "      <td>0</td>\n",
       "      <td>0</td>\n",
       "      <td>0</td>\n",
       "      <td>0</td>\n",
       "      <td>0</td>\n",
       "      <td>0</td>\n",
       "      <td>0</td>\n",
       "      <td>1</td>\n",
       "    </tr>\n",
       "    <tr>\n",
       "      <th>3</th>\n",
       "      <td>False</td>\n",
       "      <td>False</td>\n",
       "      <td>False</td>\n",
       "      <td>0.266392</td>\n",
       "      <td>-0.333105</td>\n",
       "      <td>0.523010</td>\n",
       "      <td>0.336851</td>\n",
       "      <td>2.687176</td>\n",
       "      <td>-0.092818</td>\n",
       "      <td>-1.733660</td>\n",
       "      <td>...</td>\n",
       "      <td>0</td>\n",
       "      <td>1</td>\n",
       "      <td>0</td>\n",
       "      <td>0</td>\n",
       "      <td>0</td>\n",
       "      <td>0</td>\n",
       "      <td>0</td>\n",
       "      <td>0</td>\n",
       "      <td>0</td>\n",
       "      <td>1</td>\n",
       "    </tr>\n",
       "    <tr>\n",
       "      <th>4</th>\n",
       "      <td>False</td>\n",
       "      <td>False</td>\n",
       "      <td>True</td>\n",
       "      <td>-0.972013</td>\n",
       "      <td>0.125652</td>\n",
       "      <td>-0.237159</td>\n",
       "      <td>-0.031059</td>\n",
       "      <td>0.231374</td>\n",
       "      <td>-0.261240</td>\n",
       "      <td>-1.733286</td>\n",
       "      <td>...</td>\n",
       "      <td>0</td>\n",
       "      <td>1</td>\n",
       "      <td>0</td>\n",
       "      <td>0</td>\n",
       "      <td>0</td>\n",
       "      <td>0</td>\n",
       "      <td>1</td>\n",
       "      <td>0</td>\n",
       "      <td>0</td>\n",
       "      <td>1</td>\n",
       "    </tr>\n",
       "  </tbody>\n",
       "</table>\n",
       "<p>5 rows × 22 columns</p>\n",
       "</div>"
      ],
      "text/plain": [
       "   CryoSleep    VIP  Transported       Age  RoomService  FoodCourt  \\\n",
       "0      False  False        False  0.703476    -0.333105  -0.281027   \n",
       "1      False  False         True -0.389234    -0.168073  -0.275387   \n",
       "2      False   True        False  2.087575    -0.268001   1.959998   \n",
       "3      False  False        False  0.266392    -0.333105   0.523010   \n",
       "4      False  False         True -0.972013     0.125652  -0.237159   \n",
       "\n",
       "   ShoppingMall       Spa    VRDeck     Group  ...  Destination_PSO J318.5-22  \\\n",
       "0     -0.283579 -0.270626 -0.263003 -1.734409  ...                          0   \n",
       "1     -0.241771  0.217158 -0.224205 -1.734034  ...                          0   \n",
       "2     -0.283579  5.695623 -0.219796 -1.733660  ...                          0   \n",
       "3      0.336851  2.687176 -0.092818 -1.733660  ...                          0   \n",
       "4     -0.031059  0.231374 -0.261240 -1.733286  ...                          0   \n",
       "\n",
       "   Destination_TRAPPIST-1e  Deck_B  Deck_C  Deck_D  Deck_E  Deck_F  Deck_G  \\\n",
       "0                        1       1       0       0       0       0       0   \n",
       "1                        1       0       0       0       0       1       0   \n",
       "2                        1       0       0       0       0       0       0   \n",
       "3                        1       0       0       0       0       0       0   \n",
       "4                        1       0       0       0       0       1       0   \n",
       "\n",
       "   Deck_T  Side_S  \n",
       "0       0       0  \n",
       "1       0       1  \n",
       "2       0       1  \n",
       "3       0       1  \n",
       "4       0       1  \n",
       "\n",
       "[5 rows x 22 columns]"
      ]
     },
     "execution_count": 43,
     "metadata": {},
     "output_type": "execute_result"
    }
   ],
   "source": [
    "train = pd.get_dummies(train, drop_first = True)\n",
    "test = pd.get_dummies(test, drop_first = True)\n",
    "train.head()"
   ]
  },
  {
   "cell_type": "markdown",
   "id": "1f2a5363",
   "metadata": {},
   "source": [
    "E, para finalizar, farei a conversão dos valores booleanos."
   ]
  },
  {
   "cell_type": "code",
   "execution_count": 44,
   "id": "2e2b8f38",
   "metadata": {},
   "outputs": [],
   "source": [
    "mapa = {False:0, True:1}\n",
    "train['CryoSleep'] = train['CryoSleep'].map(mapa)\n",
    "train['VIP'] = train['VIP'].map(mapa)\n",
    "train['Transported'] = train['Transported'].map(mapa)\n",
    "test['CryoSleep'] = test['CryoSleep'].map(mapa)\n",
    "test['VIP'] = test['VIP'].map(mapa)"
   ]
  },
  {
   "cell_type": "code",
   "execution_count": 45,
   "id": "bae9c00b",
   "metadata": {},
   "outputs": [
    {
     "data": {
      "text/html": [
       "<div>\n",
       "<style scoped>\n",
       "    .dataframe tbody tr th:only-of-type {\n",
       "        vertical-align: middle;\n",
       "    }\n",
       "\n",
       "    .dataframe tbody tr th {\n",
       "        vertical-align: top;\n",
       "    }\n",
       "\n",
       "    .dataframe thead th {\n",
       "        text-align: right;\n",
       "    }\n",
       "</style>\n",
       "<table border=\"1\" class=\"dataframe\">\n",
       "  <thead>\n",
       "    <tr style=\"text-align: right;\">\n",
       "      <th></th>\n",
       "      <th>CryoSleep</th>\n",
       "      <th>VIP</th>\n",
       "      <th>Transported</th>\n",
       "      <th>Age</th>\n",
       "      <th>RoomService</th>\n",
       "      <th>FoodCourt</th>\n",
       "      <th>ShoppingMall</th>\n",
       "      <th>Spa</th>\n",
       "      <th>VRDeck</th>\n",
       "      <th>Group</th>\n",
       "      <th>...</th>\n",
       "      <th>Destination_PSO J318.5-22</th>\n",
       "      <th>Destination_TRAPPIST-1e</th>\n",
       "      <th>Deck_B</th>\n",
       "      <th>Deck_C</th>\n",
       "      <th>Deck_D</th>\n",
       "      <th>Deck_E</th>\n",
       "      <th>Deck_F</th>\n",
       "      <th>Deck_G</th>\n",
       "      <th>Deck_T</th>\n",
       "      <th>Side_S</th>\n",
       "    </tr>\n",
       "  </thead>\n",
       "  <tbody>\n",
       "    <tr>\n",
       "      <th>0</th>\n",
       "      <td>0</td>\n",
       "      <td>0</td>\n",
       "      <td>0</td>\n",
       "      <td>0.703476</td>\n",
       "      <td>-0.333105</td>\n",
       "      <td>-0.281027</td>\n",
       "      <td>-0.283579</td>\n",
       "      <td>-0.270626</td>\n",
       "      <td>-0.263003</td>\n",
       "      <td>-1.734409</td>\n",
       "      <td>...</td>\n",
       "      <td>0</td>\n",
       "      <td>1</td>\n",
       "      <td>1</td>\n",
       "      <td>0</td>\n",
       "      <td>0</td>\n",
       "      <td>0</td>\n",
       "      <td>0</td>\n",
       "      <td>0</td>\n",
       "      <td>0</td>\n",
       "      <td>0</td>\n",
       "    </tr>\n",
       "    <tr>\n",
       "      <th>1</th>\n",
       "      <td>0</td>\n",
       "      <td>0</td>\n",
       "      <td>1</td>\n",
       "      <td>-0.389234</td>\n",
       "      <td>-0.168073</td>\n",
       "      <td>-0.275387</td>\n",
       "      <td>-0.241771</td>\n",
       "      <td>0.217158</td>\n",
       "      <td>-0.224205</td>\n",
       "      <td>-1.734034</td>\n",
       "      <td>...</td>\n",
       "      <td>0</td>\n",
       "      <td>1</td>\n",
       "      <td>0</td>\n",
       "      <td>0</td>\n",
       "      <td>0</td>\n",
       "      <td>0</td>\n",
       "      <td>1</td>\n",
       "      <td>0</td>\n",
       "      <td>0</td>\n",
       "      <td>1</td>\n",
       "    </tr>\n",
       "    <tr>\n",
       "      <th>2</th>\n",
       "      <td>0</td>\n",
       "      <td>1</td>\n",
       "      <td>0</td>\n",
       "      <td>2.087575</td>\n",
       "      <td>-0.268001</td>\n",
       "      <td>1.959998</td>\n",
       "      <td>-0.283579</td>\n",
       "      <td>5.695623</td>\n",
       "      <td>-0.219796</td>\n",
       "      <td>-1.733660</td>\n",
       "      <td>...</td>\n",
       "      <td>0</td>\n",
       "      <td>1</td>\n",
       "      <td>0</td>\n",
       "      <td>0</td>\n",
       "      <td>0</td>\n",
       "      <td>0</td>\n",
       "      <td>0</td>\n",
       "      <td>0</td>\n",
       "      <td>0</td>\n",
       "      <td>1</td>\n",
       "    </tr>\n",
       "    <tr>\n",
       "      <th>3</th>\n",
       "      <td>0</td>\n",
       "      <td>0</td>\n",
       "      <td>0</td>\n",
       "      <td>0.266392</td>\n",
       "      <td>-0.333105</td>\n",
       "      <td>0.523010</td>\n",
       "      <td>0.336851</td>\n",
       "      <td>2.687176</td>\n",
       "      <td>-0.092818</td>\n",
       "      <td>-1.733660</td>\n",
       "      <td>...</td>\n",
       "      <td>0</td>\n",
       "      <td>1</td>\n",
       "      <td>0</td>\n",
       "      <td>0</td>\n",
       "      <td>0</td>\n",
       "      <td>0</td>\n",
       "      <td>0</td>\n",
       "      <td>0</td>\n",
       "      <td>0</td>\n",
       "      <td>1</td>\n",
       "    </tr>\n",
       "    <tr>\n",
       "      <th>4</th>\n",
       "      <td>0</td>\n",
       "      <td>0</td>\n",
       "      <td>1</td>\n",
       "      <td>-0.972013</td>\n",
       "      <td>0.125652</td>\n",
       "      <td>-0.237159</td>\n",
       "      <td>-0.031059</td>\n",
       "      <td>0.231374</td>\n",
       "      <td>-0.261240</td>\n",
       "      <td>-1.733286</td>\n",
       "      <td>...</td>\n",
       "      <td>0</td>\n",
       "      <td>1</td>\n",
       "      <td>0</td>\n",
       "      <td>0</td>\n",
       "      <td>0</td>\n",
       "      <td>0</td>\n",
       "      <td>1</td>\n",
       "      <td>0</td>\n",
       "      <td>0</td>\n",
       "      <td>1</td>\n",
       "    </tr>\n",
       "  </tbody>\n",
       "</table>\n",
       "<p>5 rows × 22 columns</p>\n",
       "</div>"
      ],
      "text/plain": [
       "   CryoSleep  VIP  Transported       Age  RoomService  FoodCourt  \\\n",
       "0          0    0            0  0.703476    -0.333105  -0.281027   \n",
       "1          0    0            1 -0.389234    -0.168073  -0.275387   \n",
       "2          0    1            0  2.087575    -0.268001   1.959998   \n",
       "3          0    0            0  0.266392    -0.333105   0.523010   \n",
       "4          0    0            1 -0.972013     0.125652  -0.237159   \n",
       "\n",
       "   ShoppingMall       Spa    VRDeck     Group  ...  Destination_PSO J318.5-22  \\\n",
       "0     -0.283579 -0.270626 -0.263003 -1.734409  ...                          0   \n",
       "1     -0.241771  0.217158 -0.224205 -1.734034  ...                          0   \n",
       "2     -0.283579  5.695623 -0.219796 -1.733660  ...                          0   \n",
       "3      0.336851  2.687176 -0.092818 -1.733660  ...                          0   \n",
       "4     -0.031059  0.231374 -0.261240 -1.733286  ...                          0   \n",
       "\n",
       "   Destination_TRAPPIST-1e  Deck_B  Deck_C  Deck_D  Deck_E  Deck_F  Deck_G  \\\n",
       "0                        1       1       0       0       0       0       0   \n",
       "1                        1       0       0       0       0       1       0   \n",
       "2                        1       0       0       0       0       0       0   \n",
       "3                        1       0       0       0       0       0       0   \n",
       "4                        1       0       0       0       0       1       0   \n",
       "\n",
       "   Deck_T  Side_S  \n",
       "0       0       0  \n",
       "1       0       1  \n",
       "2       0       1  \n",
       "3       0       1  \n",
       "4       0       1  \n",
       "\n",
       "[5 rows x 22 columns]"
      ]
     },
     "execution_count": 45,
     "metadata": {},
     "output_type": "execute_result"
    }
   ],
   "source": [
    "train.head()"
   ]
  },
  {
   "cell_type": "markdown",
   "id": "97676904",
   "metadata": {},
   "source": [
    "Agora criarei os modelos de Machine Learning."
   ]
  },
  {
   "cell_type": "code",
   "execution_count": 46,
   "id": "08ed851e",
   "metadata": {},
   "outputs": [],
   "source": [
    "y_train = train['Transported'].values\n",
    "X_train = train.drop(columns = ['Transported'])\n",
    "X_test = test"
   ]
  },
  {
   "cell_type": "code",
   "execution_count": 47,
   "id": "7e0126cb",
   "metadata": {},
   "outputs": [
    {
     "data": {
      "text/html": [
       "<style>#sk-container-id-1 {color: black;background-color: white;}#sk-container-id-1 pre{padding: 0;}#sk-container-id-1 div.sk-toggleable {background-color: white;}#sk-container-id-1 label.sk-toggleable__label {cursor: pointer;display: block;width: 100%;margin-bottom: 0;padding: 0.3em;box-sizing: border-box;text-align: center;}#sk-container-id-1 label.sk-toggleable__label-arrow:before {content: \"▸\";float: left;margin-right: 0.25em;color: #696969;}#sk-container-id-1 label.sk-toggleable__label-arrow:hover:before {color: black;}#sk-container-id-1 div.sk-estimator:hover label.sk-toggleable__label-arrow:before {color: black;}#sk-container-id-1 div.sk-toggleable__content {max-height: 0;max-width: 0;overflow: hidden;text-align: left;background-color: #f0f8ff;}#sk-container-id-1 div.sk-toggleable__content pre {margin: 0.2em;color: black;border-radius: 0.25em;background-color: #f0f8ff;}#sk-container-id-1 input.sk-toggleable__control:checked~div.sk-toggleable__content {max-height: 200px;max-width: 100%;overflow: auto;}#sk-container-id-1 input.sk-toggleable__control:checked~label.sk-toggleable__label-arrow:before {content: \"▾\";}#sk-container-id-1 div.sk-estimator input.sk-toggleable__control:checked~label.sk-toggleable__label {background-color: #d4ebff;}#sk-container-id-1 div.sk-label input.sk-toggleable__control:checked~label.sk-toggleable__label {background-color: #d4ebff;}#sk-container-id-1 input.sk-hidden--visually {border: 0;clip: rect(1px 1px 1px 1px);clip: rect(1px, 1px, 1px, 1px);height: 1px;margin: -1px;overflow: hidden;padding: 0;position: absolute;width: 1px;}#sk-container-id-1 div.sk-estimator {font-family: monospace;background-color: #f0f8ff;border: 1px dotted black;border-radius: 0.25em;box-sizing: border-box;margin-bottom: 0.5em;}#sk-container-id-1 div.sk-estimator:hover {background-color: #d4ebff;}#sk-container-id-1 div.sk-parallel-item::after {content: \"\";width: 100%;border-bottom: 1px solid gray;flex-grow: 1;}#sk-container-id-1 div.sk-label:hover label.sk-toggleable__label {background-color: #d4ebff;}#sk-container-id-1 div.sk-serial::before {content: \"\";position: absolute;border-left: 1px solid gray;box-sizing: border-box;top: 0;bottom: 0;left: 50%;z-index: 0;}#sk-container-id-1 div.sk-serial {display: flex;flex-direction: column;align-items: center;background-color: white;padding-right: 0.2em;padding-left: 0.2em;position: relative;}#sk-container-id-1 div.sk-item {position: relative;z-index: 1;}#sk-container-id-1 div.sk-parallel {display: flex;align-items: stretch;justify-content: center;background-color: white;position: relative;}#sk-container-id-1 div.sk-item::before, #sk-container-id-1 div.sk-parallel-item::before {content: \"\";position: absolute;border-left: 1px solid gray;box-sizing: border-box;top: 0;bottom: 0;left: 50%;z-index: -1;}#sk-container-id-1 div.sk-parallel-item {display: flex;flex-direction: column;z-index: 1;position: relative;background-color: white;}#sk-container-id-1 div.sk-parallel-item:first-child::after {align-self: flex-end;width: 50%;}#sk-container-id-1 div.sk-parallel-item:last-child::after {align-self: flex-start;width: 50%;}#sk-container-id-1 div.sk-parallel-item:only-child::after {width: 0;}#sk-container-id-1 div.sk-dashed-wrapped {border: 1px dashed gray;margin: 0 0.4em 0.5em 0.4em;box-sizing: border-box;padding-bottom: 0.4em;background-color: white;}#sk-container-id-1 div.sk-label label {font-family: monospace;font-weight: bold;display: inline-block;line-height: 1.2em;}#sk-container-id-1 div.sk-label-container {text-align: center;}#sk-container-id-1 div.sk-container {/* jupyter's `normalize.less` sets `[hidden] { display: none; }` but bootstrap.min.css set `[hidden] { display: none !important; }` so we also need the `!important` here to be able to override the default hidden behavior on the sphinx rendered scikit-learn.org. See: https://github.com/scikit-learn/scikit-learn/issues/21755 */display: inline-block !important;position: relative;}#sk-container-id-1 div.sk-text-repr-fallback {display: none;}</style><div id=\"sk-container-id-1\" class=\"sk-top-container\"><div class=\"sk-text-repr-fallback\"><pre>DecisionTreeClassifier()</pre><b>In a Jupyter environment, please rerun this cell to show the HTML representation or trust the notebook. <br />On GitHub, the HTML representation is unable to render, please try loading this page with nbviewer.org.</b></div><div class=\"sk-container\" hidden><div class=\"sk-item\"><div class=\"sk-estimator sk-toggleable\"><input class=\"sk-toggleable__control sk-hidden--visually\" id=\"sk-estimator-id-1\" type=\"checkbox\" checked><label for=\"sk-estimator-id-1\" class=\"sk-toggleable__label sk-toggleable__label-arrow\">DecisionTreeClassifier</label><div class=\"sk-toggleable__content\"><pre>DecisionTreeClassifier()</pre></div></div></div></div></div>"
      ],
      "text/plain": [
       "DecisionTreeClassifier()"
      ]
     },
     "execution_count": 47,
     "metadata": {},
     "output_type": "execute_result"
    }
   ],
   "source": [
    "#Logistic Regression\n",
    "logistic = LogisticRegression()\n",
    "logistic.fit(X_train, y_train)\n",
    "\n",
    "#Naive Bayes\n",
    "bayes = GaussianNB()\n",
    "bayes.fit(X_train, y_train)\n",
    "\n",
    "#Decision Tree\n",
    "tree = DecisionTreeClassifier()\n",
    "tree.fit(X_train, y_train)"
   ]
  },
  {
   "cell_type": "code",
   "execution_count": 48,
   "id": "881e6099",
   "metadata": {},
   "outputs": [],
   "source": [
    "def previsao(modelo, previsor, alvo):\n",
    "    previsoes = modelo.predict(previsor)\n",
    "    acuracia = np.round(accuracy_score(alvo, previsoes),2)\n",
    "    confusao = confusion_matrix(alvo, previsoes)\n",
    "    print(modelo, '\\n\\nAcurácia:\\n', acuracia, '\\n\\nMatriz de confusão:\\n', confusao, '\\n\\n')"
   ]
  },
  {
   "cell_type": "code",
   "execution_count": 49,
   "id": "4a2a7ae3",
   "metadata": {},
   "outputs": [
    {
     "name": "stdout",
     "output_type": "stream",
     "text": [
      "LogisticRegression() \n",
      "\n",
      "Acurácia:\n",
      " 0.79 \n",
      "\n",
      "Matriz de confusão:\n",
      " [[3326  989]\n",
      " [ 826 3552]] \n",
      "\n",
      "\n",
      "GaussianNB() \n",
      "\n",
      "Acurácia:\n",
      " 0.71 \n",
      "\n",
      "Matriz de confusão:\n",
      " [[2207 2108]\n",
      " [ 373 4005]] \n",
      "\n",
      "\n",
      "DecisionTreeClassifier() \n",
      "\n",
      "Acurácia:\n",
      " 1.0 \n",
      "\n",
      "Matriz de confusão:\n",
      " [[4315    0]\n",
      " [   3 4375]] \n",
      "\n",
      "\n"
     ]
    }
   ],
   "source": [
    "#Logistic Regression\n",
    "previsao(logistic, X_train, y_train)\n",
    "\n",
    "#Naive Bayes\n",
    "previsao(bayes, X_train, y_train)\n",
    "\n",
    "#Decision Tree\n",
    "previsao(tree, X_train, y_train)"
   ]
  },
  {
   "cell_type": "markdown",
   "id": "a626edfb",
   "metadata": {},
   "source": [
    "A árvore de decisão teve um bom desempenho nos dados de treinamento. Vou usar uma validação cruzada para analisar os desempenhos."
   ]
  },
  {
   "cell_type": "code",
   "execution_count": 50,
   "id": "a852ae8f",
   "metadata": {},
   "outputs": [
    {
     "name": "stdout",
     "output_type": "stream",
     "text": [
      "Naive Bayes:\n",
      " {'fit_time': array([0.00800729, 0.00700593, 0.00700688, 0.00700712, 0.00800657,\n",
      "       0.00700736, 0.0070076 , 0.00800705, 0.00800753, 0.00700688]), 'score_time': array([0.00300097, 0.00300169, 0.00300097, 0.0030005 , 0.00200057,\n",
      "       0.00300121, 0.0030005 , 0.00199986, 0.00200057, 0.00300121]), 'test_score': array([0.72873563, 0.70114943, 0.61149425, 0.69965478, 0.6881473 ,\n",
      "       0.7698504 , 0.74798619, 0.72957422, 0.70425777, 0.70080552]), 'train_score': array([0.71340918, 0.7203119 , 0.64003579, 0.71523517, 0.71497955,\n",
      "       0.72226483, 0.71779141, 0.7122955 , 0.7122955 , 0.71306237])} \n",
      "\n",
      "Logistic Regression:\n",
      " {'fit_time': array([0.06604052, 0.08606148, 0.11107683, 0.07705402, 0.08305931,\n",
      "       0.08806229, 0.08205891, 0.06904864, 0.07905746, 0.06404567]), 'score_time': array([0.00200605, 0.00199914, 0.004004  , 0.00200009, 0.00200009,\n",
      "       0.00300193, 0.00200129, 0.00200176, 0.00199986, 0.00200176]), 'test_score': array([0.78045977, 0.76436782, 0.77586207, 0.79631761, 0.79516686,\n",
      "       0.7986191 , 0.78481013, 0.80207135, 0.80667434, 0.77675489]), 'train_score': array([0.79266266, 0.79445226, 0.79496357, 0.7908998 , 0.79153885,\n",
      "       0.78923824, 0.78949387, 0.78923824, 0.79217791, 0.79435072])} \n",
      "\n",
      "Decision Tree:\n",
      " {'fit_time': array([0.05305338, 0.05601931, 0.05605817, 0.05605769, 0.05203581,\n",
      "       0.05103517, 0.0510366 , 0.05103397, 0.05003476, 0.05003476]), 'score_time': array([0.00200129, 0.00400496, 0.00300336, 0.00298357, 0.00200295,\n",
      "       0.00300384, 0.00300312, 0.00200248, 0.00200224, 0.00200248]), 'test_score': array([0.71494253, 0.70344828, 0.66436782, 0.58803222, 0.64441887,\n",
      "       0.76869965, 0.75143843, 0.74683544, 0.74913694, 0.70540852]), 'train_score': array([0.99961652, 0.99961652, 0.99961652, 0.99974438, 0.99974438,\n",
      "       0.99961656, 0.99961656, 0.99961656, 0.99974438, 0.99987219])}\n"
     ]
    }
   ],
   "source": [
    "#Decision Tree\n",
    "validacao_tree = cross_validate(tree, X_train, y_train, cv = 10, return_train_score = True)\n",
    "\n",
    "#Naive Bayes\n",
    "validacao_bayes = cross_validate(bayes, X_train, y_train, cv = 10, return_train_score = True)\n",
    "\n",
    "#Logistic Regression\n",
    "validacao_logistic = cross_validate(logistic, X_train, y_train, cv = 10, return_train_score = True)\n",
    "\n",
    "print('Naive Bayes:\\n', validacao_bayes, '\\n\\nLogistic Regression:\\n', validacao_logistic, '\\n\\nDecision Tree:\\n',\n",
    "     validacao_tree)"
   ]
  },
  {
   "cell_type": "markdown",
   "id": "22b16b95",
   "metadata": {},
   "source": [
    "Podemos perceber que a árvore de decisão se sobreajustou ao modelo. A regressão logística obteve melhores desempenhos em dados desconhecidos. Vou criar alguns modelos de ensemble para verificar se existe alguma diferença significativa no desempenho."
   ]
  },
  {
   "cell_type": "code",
   "execution_count": 51,
   "id": "4a9be2d2",
   "metadata": {},
   "outputs": [
    {
     "data": {
      "text/html": [
       "<style>#sk-container-id-2 {color: black;background-color: white;}#sk-container-id-2 pre{padding: 0;}#sk-container-id-2 div.sk-toggleable {background-color: white;}#sk-container-id-2 label.sk-toggleable__label {cursor: pointer;display: block;width: 100%;margin-bottom: 0;padding: 0.3em;box-sizing: border-box;text-align: center;}#sk-container-id-2 label.sk-toggleable__label-arrow:before {content: \"▸\";float: left;margin-right: 0.25em;color: #696969;}#sk-container-id-2 label.sk-toggleable__label-arrow:hover:before {color: black;}#sk-container-id-2 div.sk-estimator:hover label.sk-toggleable__label-arrow:before {color: black;}#sk-container-id-2 div.sk-toggleable__content {max-height: 0;max-width: 0;overflow: hidden;text-align: left;background-color: #f0f8ff;}#sk-container-id-2 div.sk-toggleable__content pre {margin: 0.2em;color: black;border-radius: 0.25em;background-color: #f0f8ff;}#sk-container-id-2 input.sk-toggleable__control:checked~div.sk-toggleable__content {max-height: 200px;max-width: 100%;overflow: auto;}#sk-container-id-2 input.sk-toggleable__control:checked~label.sk-toggleable__label-arrow:before {content: \"▾\";}#sk-container-id-2 div.sk-estimator input.sk-toggleable__control:checked~label.sk-toggleable__label {background-color: #d4ebff;}#sk-container-id-2 div.sk-label input.sk-toggleable__control:checked~label.sk-toggleable__label {background-color: #d4ebff;}#sk-container-id-2 input.sk-hidden--visually {border: 0;clip: rect(1px 1px 1px 1px);clip: rect(1px, 1px, 1px, 1px);height: 1px;margin: -1px;overflow: hidden;padding: 0;position: absolute;width: 1px;}#sk-container-id-2 div.sk-estimator {font-family: monospace;background-color: #f0f8ff;border: 1px dotted black;border-radius: 0.25em;box-sizing: border-box;margin-bottom: 0.5em;}#sk-container-id-2 div.sk-estimator:hover {background-color: #d4ebff;}#sk-container-id-2 div.sk-parallel-item::after {content: \"\";width: 100%;border-bottom: 1px solid gray;flex-grow: 1;}#sk-container-id-2 div.sk-label:hover label.sk-toggleable__label {background-color: #d4ebff;}#sk-container-id-2 div.sk-serial::before {content: \"\";position: absolute;border-left: 1px solid gray;box-sizing: border-box;top: 0;bottom: 0;left: 50%;z-index: 0;}#sk-container-id-2 div.sk-serial {display: flex;flex-direction: column;align-items: center;background-color: white;padding-right: 0.2em;padding-left: 0.2em;position: relative;}#sk-container-id-2 div.sk-item {position: relative;z-index: 1;}#sk-container-id-2 div.sk-parallel {display: flex;align-items: stretch;justify-content: center;background-color: white;position: relative;}#sk-container-id-2 div.sk-item::before, #sk-container-id-2 div.sk-parallel-item::before {content: \"\";position: absolute;border-left: 1px solid gray;box-sizing: border-box;top: 0;bottom: 0;left: 50%;z-index: -1;}#sk-container-id-2 div.sk-parallel-item {display: flex;flex-direction: column;z-index: 1;position: relative;background-color: white;}#sk-container-id-2 div.sk-parallel-item:first-child::after {align-self: flex-end;width: 50%;}#sk-container-id-2 div.sk-parallel-item:last-child::after {align-self: flex-start;width: 50%;}#sk-container-id-2 div.sk-parallel-item:only-child::after {width: 0;}#sk-container-id-2 div.sk-dashed-wrapped {border: 1px dashed gray;margin: 0 0.4em 0.5em 0.4em;box-sizing: border-box;padding-bottom: 0.4em;background-color: white;}#sk-container-id-2 div.sk-label label {font-family: monospace;font-weight: bold;display: inline-block;line-height: 1.2em;}#sk-container-id-2 div.sk-label-container {text-align: center;}#sk-container-id-2 div.sk-container {/* jupyter's `normalize.less` sets `[hidden] { display: none; }` but bootstrap.min.css set `[hidden] { display: none !important; }` so we also need the `!important` here to be able to override the default hidden behavior on the sphinx rendered scikit-learn.org. See: https://github.com/scikit-learn/scikit-learn/issues/21755 */display: inline-block !important;position: relative;}#sk-container-id-2 div.sk-text-repr-fallback {display: none;}</style><div id=\"sk-container-id-2\" class=\"sk-top-container\"><div class=\"sk-text-repr-fallback\"><pre>AdaBoostClassifier()</pre><b>In a Jupyter environment, please rerun this cell to show the HTML representation or trust the notebook. <br />On GitHub, the HTML representation is unable to render, please try loading this page with nbviewer.org.</b></div><div class=\"sk-container\" hidden><div class=\"sk-item\"><div class=\"sk-estimator sk-toggleable\"><input class=\"sk-toggleable__control sk-hidden--visually\" id=\"sk-estimator-id-2\" type=\"checkbox\" checked><label for=\"sk-estimator-id-2\" class=\"sk-toggleable__label sk-toggleable__label-arrow\">AdaBoostClassifier</label><div class=\"sk-toggleable__content\"><pre>AdaBoostClassifier()</pre></div></div></div></div></div>"
      ],
      "text/plain": [
       "AdaBoostClassifier()"
      ]
     },
     "execution_count": 51,
     "metadata": {},
     "output_type": "execute_result"
    }
   ],
   "source": [
    "#Gradient Boosting\n",
    "gradient = GradientBoostingClassifier()\n",
    "gradient.fit(X_train, y_train)\n",
    "\n",
    "#Random Forest\n",
    "forest = RandomForestClassifier()\n",
    "forest.fit(X_train, y_train)\n",
    "\n",
    "#Ada Boost\n",
    "ada = AdaBoostClassifier()\n",
    "ada.fit(X_train, y_train)"
   ]
  },
  {
   "cell_type": "code",
   "execution_count": 52,
   "id": "e0d496aa",
   "metadata": {},
   "outputs": [
    {
     "name": "stdout",
     "output_type": "stream",
     "text": [
      "GradientBoostingClassifier() \n",
      "\n",
      "Acurácia:\n",
      " 0.82 \n",
      "\n",
      "Matriz de confusão:\n",
      " [[3396  919]\n",
      " [ 661 3717]] \n",
      "\n",
      "\n",
      "RandomForestClassifier() \n",
      "\n",
      "Acurácia:\n",
      " 1.0 \n",
      "\n",
      "Matriz de confusão:\n",
      " [[4313    2]\n",
      " [   1 4377]] \n",
      "\n",
      "\n",
      "AdaBoostClassifier() \n",
      "\n",
      "Acurácia:\n",
      " 0.8 \n",
      "\n",
      "Matriz de confusão:\n",
      " [[3321  994]\n",
      " [ 767 3611]] \n",
      "\n",
      "\n"
     ]
    }
   ],
   "source": [
    "#Gradient Boosting\n",
    "previsao(gradient, X_train, y_train)\n",
    "\n",
    "#Random Forest\n",
    "previsao(forest, X_train, y_train)\n",
    "\n",
    "#Ada Boost\n",
    "previsao(ada, X_train, y_train)"
   ]
  },
  {
   "cell_type": "code",
   "execution_count": 53,
   "id": "6565cee6",
   "metadata": {},
   "outputs": [
    {
     "name": "stdout",
     "output_type": "stream",
     "text": [
      "Random Forest:\n",
      " {'fit_time': array([1.04374051, 1.04474902, 1.07978463, 1.00371122, 1.01872182,\n",
      "       0.97068858, 1.02572727, 1.09177375, 1.16182399, 1.09479594]), 'score_time': array([0.0450325 , 0.03902173, 0.0310216 , 0.03202558, 0.03102279,\n",
      "       0.04505229, 0.03802967, 0.03302407, 0.03202343, 0.03402424]), 'test_score': array([0.78505747, 0.74482759, 0.76321839, 0.74223245, 0.78250863,\n",
      "       0.82163406, 0.82623705, 0.79516686, 0.80897583, 0.7433832 ]), 'train_score': array([0.99961652, 0.99961652, 0.99961652, 0.99974438, 0.99974438,\n",
      "       0.99961656, 0.99961656, 0.99961656, 0.99974438, 0.99987219])} \n",
      "\n",
      "Ada Boost:\n",
      " {'fit_time': array([0.46831226, 0.4844656 , 0.46533132, 0.48632479, 0.43230677,\n",
      "       0.42730188, 0.43030596, 0.41429305, 0.45029879, 0.40328646]), 'score_time': array([0.02501965, 0.01901126, 0.01901174, 0.01801205, 0.01801276,\n",
      "       0.01701212, 0.02201414, 0.01701188, 0.01801276, 0.01801229]), 'test_score': array([0.77356322, 0.76206897, 0.72988506, 0.70886076, 0.75834292,\n",
      "       0.80437284, 0.79286536, 0.78365938, 0.80322209, 0.49942463]), 'train_score': array([0.79956538, 0.80173846, 0.80403937, 0.79792945, 0.80240286,\n",
      "       0.79562883, 0.79665133, 0.79792945, 0.79831288, 0.80150818])} \n",
      "\n",
      "Gradient Boosting:\n",
      " {'fit_time': array([1.33494616, 1.31493306, 1.27590513, 1.29489851, 1.38099909,\n",
      "       1.26391339, 1.34993935, 1.47406292, 1.27390194, 1.27588511]), 'score_time': array([0.00500393, 0.00400233, 0.00300169, 0.00300169, 0.0060041 ,\n",
      "       0.0039854 , 0.00300193, 0.00400305, 0.00400233, 0.00400209]), 'test_score': array([0.7862069 , 0.72413793, 0.7137931 , 0.6835443 , 0.73302647,\n",
      "       0.81127733, 0.81357883, 0.7721519 , 0.79286536, 0.70425777]), 'train_score': array([0.82129618, 0.8250032 , 0.82845456, 0.82310838, 0.82298057,\n",
      "       0.81812372, 0.8168456 , 0.8178681 , 0.82067996, 0.82119121])}\n"
     ]
    }
   ],
   "source": [
    "#Cross Validation\n",
    "#Random Forest\n",
    "validacao_forest = cross_validate(forest, X_train, y_train, cv = 10, return_train_score = True)\n",
    "\n",
    "#Ada Boost\n",
    "validacao_ada = cross_validate(ada, X_train, y_train, cv = 10, return_train_score = True)\n",
    "\n",
    "#Gradient Boosting\n",
    "validacao_gradient = cross_validate(gradient, X_train, y_train, cv = 10, return_train_score = True)\n",
    "\n",
    "print('Random Forest:\\n', validacao_forest, '\\n\\nAda Boost:\\n', validacao_ada, '\\n\\nGradient Boosting:\\n',\n",
    "     validacao_gradient)"
   ]
  },
  {
   "cell_type": "markdown",
   "id": "75e58fe7",
   "metadata": {},
   "source": [
    "Mesmo utilizando os modelos de ensemble, a regressão logística teve um desempenho superior em dados desconhecidos. Vou tentar remover alguns atributos com menos importância, para reduzir a dimensionalidade dos dados."
   ]
  },
  {
   "cell_type": "code",
   "execution_count": 54,
   "id": "c622914a",
   "metadata": {},
   "outputs": [
    {
     "data": {
      "text/plain": [
       "[('VRDeck', 0.18266),\n",
       " ('Transported', 0.12578),\n",
       " ('ShoppingMall', 0.1067),\n",
       " ('Spa', 0.10167),\n",
       " ('Age', 0.09904),\n",
       " ('CryoSleep', 0.08427),\n",
       " ('RoomService', 0.08133),\n",
       " ('FoodCourt', 0.07275),\n",
       " ('Deck_T', 0.02114),\n",
       " ('Group', 0.0207),\n",
       " ('HomePlanet_Europa', 0.01695),\n",
       " ('Deck_F', 0.0163),\n",
       " ('Deck_E', 0.01483),\n",
       " ('Deck_D', 0.01397),\n",
       " ('Destination_PSO J318.5-22', 0.01371),\n",
       " ('Destination_TRAPPIST-1e', 0.0074),\n",
       " ('Deck_B', 0.00723),\n",
       " ('HomePlanet_Mars', 0.00712),\n",
       " ('Deck_C', 0.00389),\n",
       " ('VIP', 0.00255),\n",
       " ('Deck_G', 3e-05)]"
      ]
     },
     "execution_count": 54,
     "metadata": {},
     "output_type": "execute_result"
    }
   ],
   "source": [
    "#Verificando a importância de cada atributo na previsão\n",
    "importancia = np.round(forest.feature_importances_, 5)\n",
    "feature_importances = [(feature, score) for feature, score in zip(train.columns, importancia)]\n",
    "sorted(feature_importances, key = lambda x: -x[1])"
   ]
  },
  {
   "cell_type": "code",
   "execution_count": 55,
   "id": "8cff4211",
   "metadata": {},
   "outputs": [
    {
     "data": {
      "text/html": [
       "<div>\n",
       "<style scoped>\n",
       "    .dataframe tbody tr th:only-of-type {\n",
       "        vertical-align: middle;\n",
       "    }\n",
       "\n",
       "    .dataframe tbody tr th {\n",
       "        vertical-align: top;\n",
       "    }\n",
       "\n",
       "    .dataframe thead th {\n",
       "        text-align: right;\n",
       "    }\n",
       "</style>\n",
       "<table border=\"1\" class=\"dataframe\">\n",
       "  <thead>\n",
       "    <tr style=\"text-align: right;\">\n",
       "      <th></th>\n",
       "      <th>CryoSleep</th>\n",
       "      <th>Age</th>\n",
       "      <th>RoomService</th>\n",
       "      <th>FoodCourt</th>\n",
       "      <th>ShoppingMall</th>\n",
       "      <th>Spa</th>\n",
       "      <th>VRDeck</th>\n",
       "      <th>Group</th>\n",
       "    </tr>\n",
       "  </thead>\n",
       "  <tbody>\n",
       "    <tr>\n",
       "      <th>0</th>\n",
       "      <td>0.0</td>\n",
       "      <td>0.703476</td>\n",
       "      <td>-0.333105</td>\n",
       "      <td>-0.281027</td>\n",
       "      <td>-0.283579</td>\n",
       "      <td>-0.270626</td>\n",
       "      <td>-0.263003</td>\n",
       "      <td>-1.734409</td>\n",
       "    </tr>\n",
       "    <tr>\n",
       "      <th>1</th>\n",
       "      <td>0.0</td>\n",
       "      <td>-0.389234</td>\n",
       "      <td>-0.168073</td>\n",
       "      <td>-0.275387</td>\n",
       "      <td>-0.241771</td>\n",
       "      <td>0.217158</td>\n",
       "      <td>-0.224205</td>\n",
       "      <td>-1.734034</td>\n",
       "    </tr>\n",
       "    <tr>\n",
       "      <th>2</th>\n",
       "      <td>0.0</td>\n",
       "      <td>2.087575</td>\n",
       "      <td>-0.268001</td>\n",
       "      <td>1.959998</td>\n",
       "      <td>-0.283579</td>\n",
       "      <td>5.695623</td>\n",
       "      <td>-0.219796</td>\n",
       "      <td>-1.733660</td>\n",
       "    </tr>\n",
       "    <tr>\n",
       "      <th>3</th>\n",
       "      <td>0.0</td>\n",
       "      <td>0.266392</td>\n",
       "      <td>-0.333105</td>\n",
       "      <td>0.523010</td>\n",
       "      <td>0.336851</td>\n",
       "      <td>2.687176</td>\n",
       "      <td>-0.092818</td>\n",
       "      <td>-1.733660</td>\n",
       "    </tr>\n",
       "    <tr>\n",
       "      <th>4</th>\n",
       "      <td>0.0</td>\n",
       "      <td>-0.972013</td>\n",
       "      <td>0.125652</td>\n",
       "      <td>-0.237159</td>\n",
       "      <td>-0.031059</td>\n",
       "      <td>0.231374</td>\n",
       "      <td>-0.261240</td>\n",
       "      <td>-1.733286</td>\n",
       "    </tr>\n",
       "    <tr>\n",
       "      <th>...</th>\n",
       "      <td>...</td>\n",
       "      <td>...</td>\n",
       "      <td>...</td>\n",
       "      <td>...</td>\n",
       "      <td>...</td>\n",
       "      <td>...</td>\n",
       "      <td>...</td>\n",
       "      <td>...</td>\n",
       "    </tr>\n",
       "    <tr>\n",
       "      <th>8688</th>\n",
       "      <td>0.0</td>\n",
       "      <td>0.849170</td>\n",
       "      <td>-0.333105</td>\n",
       "      <td>3.992336</td>\n",
       "      <td>-0.283579</td>\n",
       "      <td>1.189173</td>\n",
       "      <td>-0.197751</td>\n",
       "      <td>1.738236</td>\n",
       "    </tr>\n",
       "    <tr>\n",
       "      <th>8689</th>\n",
       "      <td>1.0</td>\n",
       "      <td>-0.826318</td>\n",
       "      <td>-0.333105</td>\n",
       "      <td>-0.281027</td>\n",
       "      <td>-0.283579</td>\n",
       "      <td>-0.270626</td>\n",
       "      <td>-0.263003</td>\n",
       "      <td>1.738984</td>\n",
       "    </tr>\n",
       "    <tr>\n",
       "      <th>8690</th>\n",
       "      <td>0.0</td>\n",
       "      <td>-0.243540</td>\n",
       "      <td>-0.333105</td>\n",
       "      <td>-0.281027</td>\n",
       "      <td>2.846999</td>\n",
       "      <td>-0.269737</td>\n",
       "      <td>-0.263003</td>\n",
       "      <td>1.739359</td>\n",
       "    </tr>\n",
       "    <tr>\n",
       "      <th>8691</th>\n",
       "      <td>0.0</td>\n",
       "      <td>0.193544</td>\n",
       "      <td>-0.333105</td>\n",
       "      <td>0.376365</td>\n",
       "      <td>-0.283579</td>\n",
       "      <td>0.043013</td>\n",
       "      <td>2.589576</td>\n",
       "      <td>1.739733</td>\n",
       "    </tr>\n",
       "    <tr>\n",
       "      <th>8692</th>\n",
       "      <td>0.0</td>\n",
       "      <td>1.067712</td>\n",
       "      <td>-0.142335</td>\n",
       "      <td>2.656871</td>\n",
       "      <td>-0.283579</td>\n",
       "      <td>-0.270626</td>\n",
       "      <td>-0.252422</td>\n",
       "      <td>1.739733</td>\n",
       "    </tr>\n",
       "  </tbody>\n",
       "</table>\n",
       "<p>8693 rows × 8 columns</p>\n",
       "</div>"
      ],
      "text/plain": [
       "      CryoSleep       Age  RoomService  FoodCourt  ShoppingMall       Spa  \\\n",
       "0           0.0  0.703476    -0.333105  -0.281027     -0.283579 -0.270626   \n",
       "1           0.0 -0.389234    -0.168073  -0.275387     -0.241771  0.217158   \n",
       "2           0.0  2.087575    -0.268001   1.959998     -0.283579  5.695623   \n",
       "3           0.0  0.266392    -0.333105   0.523010      0.336851  2.687176   \n",
       "4           0.0 -0.972013     0.125652  -0.237159     -0.031059  0.231374   \n",
       "...         ...       ...          ...        ...           ...       ...   \n",
       "8688        0.0  0.849170    -0.333105   3.992336     -0.283579  1.189173   \n",
       "8689        1.0 -0.826318    -0.333105  -0.281027     -0.283579 -0.270626   \n",
       "8690        0.0 -0.243540    -0.333105  -0.281027      2.846999 -0.269737   \n",
       "8691        0.0  0.193544    -0.333105   0.376365     -0.283579  0.043013   \n",
       "8692        0.0  1.067712    -0.142335   2.656871     -0.283579 -0.270626   \n",
       "\n",
       "        VRDeck     Group  \n",
       "0    -0.263003 -1.734409  \n",
       "1    -0.224205 -1.734034  \n",
       "2    -0.219796 -1.733660  \n",
       "3    -0.092818 -1.733660  \n",
       "4    -0.261240 -1.733286  \n",
       "...        ...       ...  \n",
       "8688 -0.197751  1.738236  \n",
       "8689 -0.263003  1.738984  \n",
       "8690 -0.263003  1.739359  \n",
       "8691  2.589576  1.739733  \n",
       "8692 -0.252422  1.739733  \n",
       "\n",
       "[8693 rows x 8 columns]"
      ]
     },
     "execution_count": 55,
     "metadata": {},
     "output_type": "execute_result"
    }
   ],
   "source": [
    "selecao = SelectFromModel(forest, threshold = 'mean') \n",
    "X_train_reduzido = selecao.fit_transform(X_train, y_train)\n",
    "X_train_reduzido = pd.DataFrame(X_train_reduzido, columns = selecao.get_feature_names_out())\n",
    "X_train_reduzido"
   ]
  },
  {
   "cell_type": "code",
   "execution_count": 56,
   "id": "99d8bc96",
   "metadata": {},
   "outputs": [
    {
     "name": "stdout",
     "output_type": "stream",
     "text": [
      "Naive Bayes:\n",
      " {'fit_time': array([0.00900054, 0.00900745, 0.0109961 , 0.01100993, 0.00900769,\n",
      "       0.01000571, 0.00900698, 0.00900674, 0.01301384, 0.01000857]), 'score_time': array([0.00300789, 0.00302076, 0.00299907, 0.00201988, 0.00201964,\n",
      "       0.00400281, 0.00300217, 0.00300264, 0.00399971, 0.00300217]), 'test_score': array([0.72873563, 0.70114943, 0.61149425, 0.69965478, 0.6881473 ,\n",
      "       0.7698504 , 0.74798619, 0.72957422, 0.70425777, 0.70080552]), 'train_score': array([0.71340918, 0.7203119 , 0.64003579, 0.71523517, 0.71497955,\n",
      "       0.72226483, 0.71779141, 0.7122955 , 0.7122955 , 0.71306237])} \n",
      "\n",
      "Logistic Regression:\n",
      " {'fit_time': array([0.08104682, 0.08706021, 0.08706284, 0.06404519, 0.06802821,\n",
      "       0.09008026, 0.09106541, 0.0910511 , 0.08405471, 0.07506871]), 'score_time': array([0.00199986, 0.00200129, 0.00200152, 0.00201631, 0.00200081,\n",
      "       0.00200081, 0.00200057, 0.00300026, 0.00200129, 0.00198221]), 'test_score': array([0.78045977, 0.76436782, 0.77586207, 0.79631761, 0.79516686,\n",
      "       0.7986191 , 0.78481013, 0.80207135, 0.80667434, 0.77675489]), 'train_score': array([0.79266266, 0.79445226, 0.79496357, 0.7908998 , 0.79153885,\n",
      "       0.78923824, 0.78949387, 0.78923824, 0.79217791, 0.79435072])} \n",
      "\n",
      "Decision Tree:\n",
      " {'fit_time': array([0.05305576, 0.05104971, 0.05303502, 0.05403852, 0.05203629,\n",
      "       0.0560379 , 0.05205441, 0.05203676, 0.050035  , 0.04903483]), 'score_time': array([0.00200057, 0.00200152, 0.00200224, 0.00200272, 0.00200295,\n",
      "       0.002002  , 0.00200105, 0.00200152, 0.002002  , 0.00200129]), 'test_score': array([0.71264368, 0.71264368, 0.66666667, 0.57422325, 0.64326812,\n",
      "       0.77675489, 0.76064442, 0.73993096, 0.73302647, 0.70080552]), 'train_score': array([0.99961652, 0.99961652, 0.99961652, 0.99974438, 0.99974438,\n",
      "       0.99961656, 0.99961656, 0.99961656, 0.99974438, 0.99987219])}\n"
     ]
    }
   ],
   "source": [
    "#Cross Validation Dados Reduzidos\n",
    "#Decision Tree\n",
    "validacao_tree = cross_validate(tree, X_train, y_train, cv = 10, return_train_score = True)\n",
    "\n",
    "#Naive Bayes\n",
    "validacao_bayes = cross_validate(bayes, X_train, y_train, cv = 10, return_train_score = True)\n",
    "\n",
    "#Logistic Regression\n",
    "validacao_logistic = cross_validate(logistic, X_train, y_train, cv = 10, return_train_score = True)\n",
    "\n",
    "print('Naive Bayes:\\n', validacao_bayes, '\\n\\nLogistic Regression:\\n', validacao_logistic, '\\n\\nDecision Tree:\\n',\n",
    "     validacao_tree)"
   ]
  },
  {
   "cell_type": "markdown",
   "id": "46cf1663",
   "metadata": {},
   "source": [
    "Reduzir os dados não contribuiu na melhora do resultado. Vou trabalhar com a regressão logística e tentar alterar os hiperparâmetros para tentar alcançar um resultado melhor nos dados originais."
   ]
  },
  {
   "cell_type": "code",
   "execution_count": 57,
   "id": "37cc0e5d",
   "metadata": {},
   "outputs": [
    {
     "data": {
      "text/html": [
       "<style>#sk-container-id-3 {color: black;background-color: white;}#sk-container-id-3 pre{padding: 0;}#sk-container-id-3 div.sk-toggleable {background-color: white;}#sk-container-id-3 label.sk-toggleable__label {cursor: pointer;display: block;width: 100%;margin-bottom: 0;padding: 0.3em;box-sizing: border-box;text-align: center;}#sk-container-id-3 label.sk-toggleable__label-arrow:before {content: \"▸\";float: left;margin-right: 0.25em;color: #696969;}#sk-container-id-3 label.sk-toggleable__label-arrow:hover:before {color: black;}#sk-container-id-3 div.sk-estimator:hover label.sk-toggleable__label-arrow:before {color: black;}#sk-container-id-3 div.sk-toggleable__content {max-height: 0;max-width: 0;overflow: hidden;text-align: left;background-color: #f0f8ff;}#sk-container-id-3 div.sk-toggleable__content pre {margin: 0.2em;color: black;border-radius: 0.25em;background-color: #f0f8ff;}#sk-container-id-3 input.sk-toggleable__control:checked~div.sk-toggleable__content {max-height: 200px;max-width: 100%;overflow: auto;}#sk-container-id-3 input.sk-toggleable__control:checked~label.sk-toggleable__label-arrow:before {content: \"▾\";}#sk-container-id-3 div.sk-estimator input.sk-toggleable__control:checked~label.sk-toggleable__label {background-color: #d4ebff;}#sk-container-id-3 div.sk-label input.sk-toggleable__control:checked~label.sk-toggleable__label {background-color: #d4ebff;}#sk-container-id-3 input.sk-hidden--visually {border: 0;clip: rect(1px 1px 1px 1px);clip: rect(1px, 1px, 1px, 1px);height: 1px;margin: -1px;overflow: hidden;padding: 0;position: absolute;width: 1px;}#sk-container-id-3 div.sk-estimator {font-family: monospace;background-color: #f0f8ff;border: 1px dotted black;border-radius: 0.25em;box-sizing: border-box;margin-bottom: 0.5em;}#sk-container-id-3 div.sk-estimator:hover {background-color: #d4ebff;}#sk-container-id-3 div.sk-parallel-item::after {content: \"\";width: 100%;border-bottom: 1px solid gray;flex-grow: 1;}#sk-container-id-3 div.sk-label:hover label.sk-toggleable__label {background-color: #d4ebff;}#sk-container-id-3 div.sk-serial::before {content: \"\";position: absolute;border-left: 1px solid gray;box-sizing: border-box;top: 0;bottom: 0;left: 50%;z-index: 0;}#sk-container-id-3 div.sk-serial {display: flex;flex-direction: column;align-items: center;background-color: white;padding-right: 0.2em;padding-left: 0.2em;position: relative;}#sk-container-id-3 div.sk-item {position: relative;z-index: 1;}#sk-container-id-3 div.sk-parallel {display: flex;align-items: stretch;justify-content: center;background-color: white;position: relative;}#sk-container-id-3 div.sk-item::before, #sk-container-id-3 div.sk-parallel-item::before {content: \"\";position: absolute;border-left: 1px solid gray;box-sizing: border-box;top: 0;bottom: 0;left: 50%;z-index: -1;}#sk-container-id-3 div.sk-parallel-item {display: flex;flex-direction: column;z-index: 1;position: relative;background-color: white;}#sk-container-id-3 div.sk-parallel-item:first-child::after {align-self: flex-end;width: 50%;}#sk-container-id-3 div.sk-parallel-item:last-child::after {align-self: flex-start;width: 50%;}#sk-container-id-3 div.sk-parallel-item:only-child::after {width: 0;}#sk-container-id-3 div.sk-dashed-wrapped {border: 1px dashed gray;margin: 0 0.4em 0.5em 0.4em;box-sizing: border-box;padding-bottom: 0.4em;background-color: white;}#sk-container-id-3 div.sk-label label {font-family: monospace;font-weight: bold;display: inline-block;line-height: 1.2em;}#sk-container-id-3 div.sk-label-container {text-align: center;}#sk-container-id-3 div.sk-container {/* jupyter's `normalize.less` sets `[hidden] { display: none; }` but bootstrap.min.css set `[hidden] { display: none !important; }` so we also need the `!important` here to be able to override the default hidden behavior on the sphinx rendered scikit-learn.org. See: https://github.com/scikit-learn/scikit-learn/issues/21755 */display: inline-block !important;position: relative;}#sk-container-id-3 div.sk-text-repr-fallback {display: none;}</style><div id=\"sk-container-id-3\" class=\"sk-top-container\"><div class=\"sk-text-repr-fallback\"><pre>LogisticRegression(C=0.1, max_iter=1000, solver=&#x27;liblinear&#x27;)</pre><b>In a Jupyter environment, please rerun this cell to show the HTML representation or trust the notebook. <br />On GitHub, the HTML representation is unable to render, please try loading this page with nbviewer.org.</b></div><div class=\"sk-container\" hidden><div class=\"sk-item\"><div class=\"sk-estimator sk-toggleable\"><input class=\"sk-toggleable__control sk-hidden--visually\" id=\"sk-estimator-id-3\" type=\"checkbox\" checked><label for=\"sk-estimator-id-3\" class=\"sk-toggleable__label sk-toggleable__label-arrow\">LogisticRegression</label><div class=\"sk-toggleable__content\"><pre>LogisticRegression(C=0.1, max_iter=1000, solver=&#x27;liblinear&#x27;)</pre></div></div></div></div></div>"
      ],
      "text/plain": [
       "LogisticRegression(C=0.1, max_iter=1000, solver='liblinear')"
      ]
     },
     "execution_count": 57,
     "metadata": {},
     "output_type": "execute_result"
    }
   ],
   "source": [
    "logistic_improved = LogisticRegression(C = 0.1, solver = 'liblinear', max_iter = 1000)\n",
    "logistic_improved.fit(X_train, y_train)"
   ]
  },
  {
   "cell_type": "code",
   "execution_count": 58,
   "id": "eeaf292b",
   "metadata": {},
   "outputs": [
    {
     "data": {
      "text/plain": [
       "{'fit_time': array([0.03502297, 0.04002523, 0.03802514, 0.04103017, 0.03602839,\n",
       "        0.0310216 , 0.03704286, 0.03302073, 0.0370295 , 0.03002381]),\n",
       " 'score_time': array([0.00400329, 0.00200319, 0.00300384, 0.00300217, 0.00199866,\n",
       "        0.00200176, 0.00200081, 0.00200248, 0.0019989 , 0.00201726]),\n",
       " 'test_score': array([0.77471264, 0.75977011, 0.77471264, 0.79746835, 0.80322209,\n",
       "        0.79516686, 0.78135788, 0.8009206 , 0.80897583, 0.77790564]),\n",
       " 'train_score': array([0.79100089, 0.79304615, 0.79253483, 0.78783231, 0.78936605,\n",
       "        0.7877045 , 0.78732106, 0.78706544, 0.78808793, 0.79128323])}"
      ]
     },
     "execution_count": 58,
     "metadata": {},
     "output_type": "execute_result"
    }
   ],
   "source": [
    "cross_validate(logistic_improved, X_train, y_train, cv = 10, return_train_score = True)"
   ]
  },
  {
   "cell_type": "markdown",
   "id": "70aa9feb",
   "metadata": {},
   "source": [
    "Agora vou realizar as previsões no conjunto de teste para avaliar a acurácia no Kaggle."
   ]
  },
  {
   "cell_type": "code",
   "execution_count": 62,
   "id": "e7e80fb6",
   "metadata": {},
   "outputs": [
    {
     "data": {
      "text/html": [
       "<div>\n",
       "<style scoped>\n",
       "    .dataframe tbody tr th:only-of-type {\n",
       "        vertical-align: middle;\n",
       "    }\n",
       "\n",
       "    .dataframe tbody tr th {\n",
       "        vertical-align: top;\n",
       "    }\n",
       "\n",
       "    .dataframe thead th {\n",
       "        text-align: right;\n",
       "    }\n",
       "</style>\n",
       "<table border=\"1\" class=\"dataframe\">\n",
       "  <thead>\n",
       "    <tr style=\"text-align: right;\">\n",
       "      <th></th>\n",
       "      <th>Transported</th>\n",
       "    </tr>\n",
       "    <tr>\n",
       "      <th>PassengerId</th>\n",
       "      <th></th>\n",
       "    </tr>\n",
       "  </thead>\n",
       "  <tbody>\n",
       "    <tr>\n",
       "      <th>0013_01</th>\n",
       "      <td>True</td>\n",
       "    </tr>\n",
       "    <tr>\n",
       "      <th>0018_01</th>\n",
       "      <td>False</td>\n",
       "    </tr>\n",
       "    <tr>\n",
       "      <th>0019_01</th>\n",
       "      <td>True</td>\n",
       "    </tr>\n",
       "    <tr>\n",
       "      <th>0021_01</th>\n",
       "      <td>True</td>\n",
       "    </tr>\n",
       "    <tr>\n",
       "      <th>0023_01</th>\n",
       "      <td>True</td>\n",
       "    </tr>\n",
       "    <tr>\n",
       "      <th>0027_01</th>\n",
       "      <td>False</td>\n",
       "    </tr>\n",
       "    <tr>\n",
       "      <th>0029_01</th>\n",
       "      <td>True</td>\n",
       "    </tr>\n",
       "    <tr>\n",
       "      <th>0032_01</th>\n",
       "      <td>True</td>\n",
       "    </tr>\n",
       "    <tr>\n",
       "      <th>0032_02</th>\n",
       "      <td>True</td>\n",
       "    </tr>\n",
       "    <tr>\n",
       "      <th>0033_01</th>\n",
       "      <td>True</td>\n",
       "    </tr>\n",
       "  </tbody>\n",
       "</table>\n",
       "</div>"
      ],
      "text/plain": [
       "             Transported\n",
       "PassengerId             \n",
       "0013_01             True\n",
       "0018_01            False\n",
       "0019_01             True\n",
       "0021_01             True\n",
       "0023_01             True\n",
       "0027_01            False\n",
       "0029_01             True\n",
       "0032_01             True\n",
       "0032_02             True\n",
       "0033_01             True"
      ]
     },
     "execution_count": 62,
     "metadata": {},
     "output_type": "execute_result"
    }
   ],
   "source": [
    "#Previsões\n",
    "previsoes = logistic_improved.predict(X_test)\n",
    "\n",
    "#Importando PassengerId\n",
    "passenger_Id = pd.read_csv('test-space.csv')\n",
    "passenger_Id = passenger_Id['PassengerId']\n",
    "\n",
    "#Criando DataFrame com PassengerId e Transported (Previsões)\n",
    "previsoes = pd.DataFrame({'Transported': previsoes})\n",
    "kaggle = pd.concat([passenger_Id, previsoes], axis = 1)\n",
    "mapa = {0:False, 1:True}\n",
    "kaggle['Transported'] = kaggle['Transported'].map(mapa)\n",
    "kaggle = kaggle.set_index('PassengerId')\n",
    "kaggle.head(10)"
   ]
  },
  {
   "cell_type": "markdown",
   "id": "34d7d721",
   "metadata": {},
   "source": [
    "O modelo obteve uma acurácia de 78,746% de acordo com avaliação do Kaggle."
   ]
  }
 ],
 "metadata": {
  "kernelspec": {
   "display_name": "Python 3 (ipykernel)",
   "language": "python",
   "name": "python3"
  },
  "language_info": {
   "codemirror_mode": {
    "name": "ipython",
    "version": 3
   },
   "file_extension": ".py",
   "mimetype": "text/x-python",
   "name": "python",
   "nbconvert_exporter": "python",
   "pygments_lexer": "ipython3",
   "version": "3.9.12"
  }
 },
 "nbformat": 4,
 "nbformat_minor": 5
}
